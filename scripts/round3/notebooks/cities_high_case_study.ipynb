{
 "cells": [
  {
   "cell_type": "code",
   "execution_count": 2,
   "metadata": {},
   "outputs": [],
   "source": [
    "from scripts.round3.figures_import_helper_r3 import *"
   ]
  },
  {
   "cell_type": "code",
   "execution_count": 3,
   "metadata": {},
   "outputs": [],
   "source": [
    "filename = 'tsuchiura_data.csv'\n",
    "tsuchiura_data = asymptotics.PIDMeanAuctionData(\n",
    "    os.path.join(path_data, filename))\n",
    "tsuchiura_data = asymptotics.PIDMeanAuctionData(\n",
    "    tsuchiura_data.df_bids.loc[tsuchiura_data.data.minprice.isnull()])"
   ]
  },
  {
   "cell_type": "code",
   "execution_count": 4,
   "metadata": {},
   "outputs": [],
   "source": [
    "filename = 'municipal_pub_reserve_no_pricefloor.csv'\n",
    "other_data = asymptotics.PIDMeanAuctionData(os.path.join(path_data, filename))"
   ]
  },
  {
   "cell_type": "code",
   "execution_count": 5,
   "metadata": {},
   "outputs": [],
   "source": [
    "s1 = set(other_data.df_bids.pid)\n",
    "s2 = set(tsuchiura_data.df_bids.pid)\n",
    "\n",
    "assert len(s2.intersection(s1)) == 0"
   ]
  },
  {
   "cell_type": "code",
   "execution_count": 6,
   "metadata": {},
   "outputs": [],
   "source": [
    "all_bids = pd.concat((other_data.df_bids, tsuchiura_data.df_bids), axis=0)\n",
    "data_low = asymptotics.PIDMeanAuctionData.from_clean_bids(\n",
    "    all_bids.loc[all_bids.norm_bid < .9])\n",
    "data_high = asymptotics.PIDMeanAuctionData.from_clean_bids(\n",
    "    all_bids.loc[all_bids.norm_bid > .9])\n",
    " "
   ]
  },
  {
   "cell_type": "code",
   "execution_count": 27,
   "metadata": {},
   "outputs": [],
   "source": [
    "solver = asymptotics.ParallelAsymptoticSolver(\n",
    "            data=data_high,\n",
    "            deviations=all_deviations,\n",
    "            metric=analytics.NormalizedDeviationTemptation,\n",
    "            plausibility_constraints=r3_constraints[-1],\n",
    "            num_points=1000,\n",
    "            seed=0,\n",
    "            project=False,\n",
    "            filter_ties=None,\n",
    "            num_evaluations=100,\n",
    "            confidence_level=.95,\n",
    "            moment_matrix=moment_matrix,\n",
    "            moment_weights=None,\n",
    "            enhanced_guesses=True\n",
    ")\n"
   ]
  },
  {
   "cell_type": "code",
   "execution_count": 28,
   "metadata": {},
   "outputs": [
    {
     "data": {
      "text/plain": [
       "-0.020    0.568451\n",
       " 0.000    0.144842\n",
       " 0.001    0.142180\n",
       "dtype: float64"
      ]
     },
     "execution_count": 28,
     "metadata": {},
     "output_type": "execute_result"
    }
   ],
   "source": [
    "solver.get_solver(0).demands"
   ]
  },
  {
   "cell_type": "code",
   "execution_count": 29,
   "metadata": {},
   "outputs": [
    {
     "data": {
      "text/plain": [
       "array([[-0.55510996],\n",
       "       [-0.41030795],\n",
       "       [ 0.00396719],\n",
       "       [-0.13277263]])"
      ]
     },
     "execution_count": 29,
     "metadata": {},
     "output_type": "execute_result"
    }
   ],
   "source": [
    "solver.get_solver(0).tolerance"
   ]
  },
  {
   "cell_type": "code",
   "execution_count": 30,
   "metadata": {},
   "outputs": [
    {
     "data": {
      "text/plain": [
       "0.09961579976046955"
      ]
     },
     "execution_count": 30,
     "metadata": {},
     "output_type": "execute_result"
    }
   ],
   "source": [
    "solver.result.solution"
   ]
  },
  {
   "cell_type": "code",
   "execution_count": null,
   "metadata": {},
   "outputs": [],
   "source": []
  }
 ],
 "metadata": {
  "jupytext": {
   "cell_metadata_filter": "-all",
   "main_language": "python",
   "notebook_metadata_filter": "-all"
  },
  "kernelspec": {
   "display_name": "Python 3",
   "language": "python",
   "name": "python3"
  },
  "language_info": {
   "codemirror_mode": {
    "name": "ipython",
    "version": 3
   },
   "file_extension": ".py",
   "mimetype": "text/x-python",
   "name": "python",
   "nbconvert_exporter": "python",
   "pygments_lexer": "ipython3",
   "version": "3.8.0"
  }
 },
 "nbformat": 4,
 "nbformat_minor": 4
}
