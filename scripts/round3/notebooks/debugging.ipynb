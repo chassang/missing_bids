{
 "cells": [
  {
   "cell_type": "code",
   "execution_count": 1,
   "metadata": {},
   "outputs": [],
   "source": [
    "from scripts.round3.figures_import_helper_r3 import *\n",
    "\n",
    "path = os.path.join(path_data, 'tsuchiura_data.csv')"
   ]
  },
  {
   "cell_type": "code",
   "execution_count": 2,
   "metadata": {},
   "outputs": [],
   "source": [
    "tsuchiura_data = asymptotics.PIDMeanAuctionData(path)\n",
    "tsuchiura_before_min_price_ = asymptotics.PIDMeanAuctionData(\n",
    "    tsuchiura_data.df_bids.loc[tsuchiura_data.data.minprice.isnull()])\n",
    "tsuchiura_before_min_price = asymptotics.PIDMeanAuctionData.from_clean_bids(\n",
    "    tsuchiura_before_min_price_.df_bids.loc[\n",
    "        tsuchiura_before_min_price_.df_bids.norm_bid > .9])"
   ]
  },
  {
   "cell_type": "code",
   "execution_count": 3,
   "metadata": {},
   "outputs": [],
   "source": [
    "filter_ties = auction_data.FilterTies(tolerance=.0001)\n",
    "tsuchiura_before_min_price_filtered = filter_ties(tsuchiura_before_min_price)"
   ]
  },
  {
   "cell_type": "code",
   "execution_count": 4,
   "metadata": {},
   "outputs": [],
   "source": [
    "empty_constraints = environments.EmptyConstraint()\n",
    "moment_matrix_up = np.array([[1, 0], [1, -1]])"
   ]
  },
  {
   "cell_type": "code",
   "execution_count": 23,
   "metadata": {},
   "outputs": [],
   "source": [
    "solver = asymptotics.ParallelAsymptoticSolver(\n",
    "            data=tsuchiura_before_min_price_filtered,\n",
    "            deviations=[.0, .0008],\n",
    "            metric=analytics.EfficientIsNonCompetitive,\n",
    "            plausibility_constraints=[empty_constraints],\n",
    "            num_points=1000,\n",
    "            num_evaluations=100,\n",
    "            seed=1,\n",
    "            project=False,\n",
    "            filter_ties=None,\n",
    "            confidence_level=[.999, .999, .952],\n",
    "            moment_matrix=np.array([[1, 0], [1, -1], [0, -1]]),\n",
    "            enhanced_guesses=True\n",
    "        )\n"
   ]
  },
  {
   "cell_type": "code",
   "execution_count": 24,
   "metadata": {},
   "outputs": [
    {
     "data": {
      "text/plain": [
       "array([[ 2.79209152e-01],\n",
       "       [ 1.60871068e-07],\n",
       "       [-1.77812062e-01]])"
      ]
     },
     "execution_count": 24,
     "metadata": {},
     "output_type": "execute_result"
    }
   ],
   "source": [
    "solver.tolerance"
   ]
  },
  {
   "cell_type": "code",
   "execution_count": 25,
   "metadata": {},
   "outputs": [
    {
     "data": {
      "text/plain": [
       "0.0000    0.213309\n",
       "0.0008    0.213309\n",
       "dtype: float64"
      ]
     },
     "execution_count": 25,
     "metadata": {},
     "output_type": "execute_result"
    }
   ],
   "source": [
    "solver.get_solver(0).demands"
   ]
  },
  {
   "cell_type": "code",
   "execution_count": 26,
   "metadata": {},
   "outputs": [
    {
     "data": {
      "text/plain": [
       "0.17775073878498127"
      ]
     },
     "execution_count": 26,
     "metadata": {},
     "output_type": "execute_result"
    }
   ],
   "source": [
    "solver.result.solution"
   ]
  },
  {
   "cell_type": "code",
   "execution_count": 12,
   "metadata": {
    "scrolled": false
   },
   "outputs": [],
   "source": [
    "argmin = solver.result.argmin"
   ]
  },
  {
   "cell_type": "code",
   "execution_count": 13,
   "metadata": {},
   "outputs": [
    {
     "data": {
      "text/plain": [
       "Index(['prob', '0.0', '0.0008', 'cost', 'metric'], dtype='object')"
      ]
     },
     "execution_count": 13,
     "metadata": {},
     "output_type": "execute_result"
    }
   ],
   "source": [
    "argmin.columns"
   ]
  },
  {
   "cell_type": "code",
   "execution_count": 14,
   "metadata": {},
   "outputs": [
    {
     "data": {
      "text/plain": [
       "(0.17597564568131197, 0.17597551142823414)"
      ]
     },
     "execution_count": 14,
     "metadata": {},
     "output_type": "execute_result"
    }
   ],
   "source": [
    "d0, d1 = (argmin['prob'] * argmin['0.0']).sum(), (argmin['prob'] * argmin['0.0008']).sum() \n",
    "d0, d1"
   ]
  },
  {
   "cell_type": "code",
   "execution_count": null,
   "metadata": {},
   "outputs": [],
   "source": []
  }
 ],
 "metadata": {
  "kernelspec": {
   "display_name": "Python 3",
   "language": "python",
   "name": "python3"
  },
  "language_info": {
   "codemirror_mode": {
    "name": "ipython",
    "version": 3
   },
   "file_extension": ".py",
   "mimetype": "text/x-python",
   "name": "python",
   "nbconvert_exporter": "python",
   "pygments_lexer": "ipython3",
   "version": "3.8.0"
  }
 },
 "nbformat": 4,
 "nbformat_minor": 4
}
