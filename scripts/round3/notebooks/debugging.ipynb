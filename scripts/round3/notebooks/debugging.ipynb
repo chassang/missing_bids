{
 "cells": [
  {
   "cell_type": "code",
   "execution_count": 1,
   "metadata": {},
   "outputs": [
    {
     "name": "stdout",
     "output_type": "stream",
     "text": [
      "data located at \n",
      "\t/home/sylvain/Dropbox/Econ/papiers/gameTheory/missing_bids/data/data_for_missing_bids_figures\n",
      "plots saved at \n",
      "\t/home/sylvain/Dropbox/Econ/papiers/gameTheory/missing_bids/data/data_for_missing_bids_figures/figures/20200719\n",
      "\n",
      "====================\n",
      "Tsuchiura (before min. price)\n",
      "collecting and processing data\n"
     ]
    }
   ],
   "source": [
    "from scripts.round3.figures_import_helper_r3 import *\n",
    "\n",
    "# illustrating impact of different IC constraints, using city data\n",
    "\n",
    "print('data located at \\n\\t{}'.format(path_data))\n",
    "print('plots saved at \\n\\t{}\\n'.format(path_figures))\n",
    "\n",
    "print('=' * 20 + '\\n' + 'Tsuchiura (before min. price)')\n",
    "print('collecting and processing data')\n",
    "tsuchiura_data = auction_data.AuctionData(\n",
    "    os.path.join(path_data, 'tsuchiura_data.csv'))"
   ]
  },
  {
   "cell_type": "code",
   "execution_count": 2,
   "metadata": {},
   "outputs": [],
   "source": [
    "tsuchiura_before_min_price_ = auction_data.AuctionData(\n",
    "    tsuchiura_data.df_bids.loc[tsuchiura_data.data.minprice.isnull()])\n",
    "tsuchiura_before_min_price = auction_data.AuctionData.from_clean_bids(\n",
    "    tsuchiura_before_min_price_.df_bids.loc[\n",
    "        tsuchiura_before_min_price_.df_bids.norm_bid > .9])"
   ]
  },
  {
   "cell_type": "code",
   "execution_count": 3,
   "metadata": {},
   "outputs": [],
   "source": [
    "filter_ties = auction_data.FilterTies(tolerance=.0001)\n",
    "tsuchiura_before_min_price_filtered = filter_ties(tsuchiura_before_min_price)"
   ]
  },
  {
   "cell_type": "code",
   "execution_count": 4,
   "metadata": {},
   "outputs": [],
   "source": [
    "constraints = environments.MarkupConstraint()\n",
    "empty_constraints = environments.EmptyConstraint()\n",
    "moment_matrix = auction_data.moment_matrix(\n",
    "    analytics.ordered_deviations(up_deviations_tsuchiura), 'slope')\n",
    "moment_weights = np.identity(len(analytics.ordered_deviations(\n",
    "    up_deviations_tsuchiura)))"
   ]
  },
  {
   "cell_type": "code",
   "execution_count": 5,
   "metadata": {},
   "outputs": [
    {
     "data": {
      "text/plain": [
       "0.14753197249651825"
      ]
     },
     "execution_count": 5,
     "metadata": {},
     "output_type": "execute_result"
    }
   ],
   "source": [
    "solver = solvers.ParallelSolver(\n",
    "            data=tsuchiura_before_min_price_filtered,\n",
    "            deviations=up_deviations_tsuchiura,\n",
    "            metric=analytics.IsNonCompetitive,\n",
    "            plausibility_constraints=[constraints],\n",
    "            num_points=5000,\n",
    "            seed=1,\n",
    "            project=False,\n",
    "            filter_ties=None,\n",
    "            num_evaluations=400,\n",
    "            confidence_level=.95,\n",
    "            moment_matrix=moment_matrix,\n",
    "            moment_weights=moment_weights\n",
    "        )\n",
    "solver.result.solution"
   ]
  },
  {
   "cell_type": "code",
   "execution_count": 8,
   "metadata": {},
   "outputs": [
    {
     "data": {
      "text/plain": [
       "0.11115727177633557"
      ]
     },
     "execution_count": 8,
     "metadata": {},
     "output_type": "execute_result"
    }
   ],
   "source": [
    "solver = solvers.ParallelSolver(\n",
    "            data=tsuchiura_before_min_price_filtered,\n",
    "            deviations=up_deviations_tsuchiura,\n",
    "            metric=analytics.EfficientIsNonCompetitive,\n",
    "            plausibility_constraints=[empty_constraints],\n",
    "            num_points=5000,\n",
    "            seed=1,\n",
    "            project=False,\n",
    "            filter_ties=None,\n",
    "            num_evaluations=400,\n",
    "            confidence_level=.95,\n",
    "            moment_matrix=moment_matrix,\n",
    "            moment_weights=moment_weights\n",
    "        )\n",
    "solver.result.solution"
   ]
  },
  {
   "cell_type": "code",
   "execution_count": 7,
   "metadata": {},
   "outputs": [
    {
     "data": {
      "text/plain": [
       "array([[3.75072308e-04],\n",
       "       [1.00000000e-08]])"
      ]
     },
     "execution_count": 7,
     "metadata": {},
     "output_type": "execute_result"
    }
   ],
   "source": [
    "solver.tolerance"
   ]
  },
  {
   "cell_type": "code",
   "execution_count": null,
   "metadata": {},
   "outputs": [],
   "source": []
  }
 ],
 "metadata": {
  "kernelspec": {
   "display_name": "Python 3",
   "language": "python",
   "name": "python3"
  },
  "language_info": {
   "codemirror_mode": {
    "name": "ipython",
    "version": 3
   },
   "file_extension": ".py",
   "mimetype": "text/x-python",
   "name": "python",
   "nbconvert_exporter": "python",
   "pygments_lexer": "ipython3",
   "version": "3.8.0"
  }
 },
 "nbformat": 4,
 "nbformat_minor": 4
}
