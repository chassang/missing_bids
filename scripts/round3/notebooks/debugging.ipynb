{
 "cells": [
  {
   "cell_type": "code",
   "execution_count": 1,
   "metadata": {},
   "outputs": [],
   "source": [
    "from scripts.round3.figures_import_helper_r3 import *"
   ]
  },
  {
   "cell_type": "code",
   "execution_count": 2,
   "metadata": {},
   "outputs": [],
   "source": [
    "national_data = asymptotics.MultistagePIDMeanAuctionData(\n",
    "    os.path.join(path_data, 'sample_with_firm_rank.csv'))"
   ]
  },
  {
   "cell_type": "code",
   "execution_count": 44,
   "metadata": {},
   "outputs": [
    {
     "name": "stdout",
     "output_type": "stream",
     "text": [
      "demands win_down     0.292954\n",
      "marg_cont    0.022322\n",
      "marg_info    0.074684\n",
      "win0         0.118337\n",
      "win_up       0.117307\n",
      "dtype: float64\n",
      "tolerance [[-0.10451785]\n",
      " [ 0.11958658]\n",
      " [-0.11508638]\n",
      " [ 0.00120308]]\n",
      "solution 0.08017476945307278\n"
     ]
    }
   ],
   "source": [
    "ms_moment_matrix = np.array([\n",
    "    [-.98, 1, .5, 1, 0],\n",
    "    [1, -1, -.5, -1, 0],\n",
    "    [0, 0, 0, 0, -1],\n",
    "    [0, 0, 0, 1, -1]\n",
    "])\n",
    "\n",
    "metric = rebidding.EfficientMultistageIsNonCompetitive\n",
    "metric.max_markup = .5\n",
    "metric.min_markup = .025\n",
    "\n",
    "deviations = [-.02, 0, .001]\n",
    "solver = asymptotics.ParallelAsymptoticMultistageSolver(\n",
    "    data=national_data,\n",
    "    deviations=deviations,\n",
    "    metric=metric,\n",
    "    plausibility_constraints=[environments.EmptyConstraint()],\n",
    "    num_points=500,\n",
    "    num_evaluations=2,\n",
    "    seed=0,\n",
    "    project=False,\n",
    "    filter_ties=None,\n",
    "    confidence_level=[.999, .999, .974, .974],\n",
    "    moment_matrix=ms_moment_matrix,\n",
    "    enhanced_guesses=True\n",
    ")\n",
    "\n",
    "print('demands', solver.get_solver(0).demands)\n",
    "\n",
    "print('tolerance', solver.get_solver(0).tolerance)\n",
    "\n",
    "print('solution', solver.result.solution)"
   ]
  },
  {
   "cell_type": "code",
   "execution_count": 25,
   "metadata": {
    "scrolled": false
   },
   "outputs": [
    {
     "name": "stdout",
     "output_type": "stream",
     "text": [
      "demands win_down     0.292954\n",
      "marg_cont    0.022322\n",
      "marg_info    0.074684\n",
      "win0         0.118337\n",
      "win_up       0.117542\n",
      "dtype: float64\n",
      "tolerance [[-0.1056493 ]\n",
      " [ 0.11844147]]\n",
      "solution 0.031041694755836017\n"
     ]
    }
   ],
   "source": [
    "ms_moment_matrix = np.array([\n",
    "    [-.98, 1, .5, 1, 0],\n",
    "    [1, -1, -.5, -1, 0]\n",
    "])\n",
    "metric = rebidding.EfficientMultistageIsNonCompetitive\n",
    "metric.max_markup = .5\n",
    "metric.min_markup = .15\n",
    "\n",
    "deviations = [-.02, 0, 1e-9]\n",
    "solver = asymptotics.ParallelAsymptoticMultistageSolver(\n",
    "    data=national_data,\n",
    "    deviations=deviations,\n",
    "    metric=metric,\n",
    "    plausibility_constraints=[environments.EmptyConstraint()],\n",
    "    num_points=100,\n",
    "    num_evaluations=2,\n",
    "    seed=0,\n",
    "    project=False,\n",
    "    filter_ties=None,\n",
    "    confidence_level=.95,\n",
    "    moment_matrix=ms_moment_matrix,\n",
    "    enhanced_guesses=True\n",
    ")\n",
    "\n",
    "print('demands', solver.get_solver(0).demands)\n",
    "\n",
    "print('tolerance', solver.get_solver(0).tolerance)\n",
    "\n",
    "print('solution', solver.result.solution)"
   ]
  },
  {
   "cell_type": "code",
   "execution_count": 16,
   "metadata": {},
   "outputs": [],
   "source": [
    "argmin = solver.result.argmin"
   ]
  },
  {
   "cell_type": "code",
   "execution_count": 17,
   "metadata": {},
   "outputs": [
    {
     "data": {
      "text/html": [
       "<div>\n",
       "<style scoped>\n",
       "    .dataframe tbody tr th:only-of-type {\n",
       "        vertical-align: middle;\n",
       "    }\n",
       "\n",
       "    .dataframe tbody tr th {\n",
       "        vertical-align: top;\n",
       "    }\n",
       "\n",
       "    .dataframe thead th {\n",
       "        text-align: right;\n",
       "    }\n",
       "</style>\n",
       "<table border=\"1\" class=\"dataframe\">\n",
       "  <thead>\n",
       "    <tr style=\"text-align: right;\">\n",
       "      <th></th>\n",
       "      <th>prob</th>\n",
       "      <th>win_down</th>\n",
       "      <th>marg_cont</th>\n",
       "      <th>marg_info</th>\n",
       "      <th>win0</th>\n",
       "      <th>win_up</th>\n",
       "      <th>cost</th>\n",
       "      <th>metric</th>\n",
       "    </tr>\n",
       "  </thead>\n",
       "  <tbody>\n",
       "    <tr>\n",
       "      <th>0</th>\n",
       "      <td>6.657512e-01</td>\n",
       "      <td>0.000000</td>\n",
       "      <td>0.000000</td>\n",
       "      <td>0.000000</td>\n",
       "      <td>0.000000</td>\n",
       "      <td>0.000000</td>\n",
       "      <td>0.000000</td>\n",
       "      <td>0.0</td>\n",
       "    </tr>\n",
       "    <tr>\n",
       "      <th>1</th>\n",
       "      <td>2.745678e-01</td>\n",
       "      <td>0.858314</td>\n",
       "      <td>0.047174</td>\n",
       "      <td>0.001325</td>\n",
       "      <td>0.755082</td>\n",
       "      <td>0.698057</td>\n",
       "      <td>0.353535</td>\n",
       "      <td>0.0</td>\n",
       "    </tr>\n",
       "    <tr>\n",
       "      <th>2</th>\n",
       "      <td>5.968099e-02</td>\n",
       "      <td>1.000000</td>\n",
       "      <td>0.000000</td>\n",
       "      <td>0.000000</td>\n",
       "      <td>0.000000</td>\n",
       "      <td>0.000000</td>\n",
       "      <td>1.000000</td>\n",
       "      <td>1.0</td>\n",
       "    </tr>\n",
       "    <tr>\n",
       "      <th>3</th>\n",
       "      <td>5.650824e-12</td>\n",
       "      <td>0.983138</td>\n",
       "      <td>0.265234</td>\n",
       "      <td>0.011955</td>\n",
       "      <td>0.652907</td>\n",
       "      <td>0.477736</td>\n",
       "      <td>0.462338</td>\n",
       "      <td>0.0</td>\n",
       "    </tr>\n",
       "    <tr>\n",
       "      <th>4</th>\n",
       "      <td>4.029792e-12</td>\n",
       "      <td>0.988510</td>\n",
       "      <td>0.092423</td>\n",
       "      <td>0.002390</td>\n",
       "      <td>0.845113</td>\n",
       "      <td>0.549497</td>\n",
       "      <td>0.753387</td>\n",
       "      <td>0.0</td>\n",
       "    </tr>\n",
       "    <tr>\n",
       "      <th>...</th>\n",
       "      <td>...</td>\n",
       "      <td>...</td>\n",
       "      <td>...</td>\n",
       "      <td>...</td>\n",
       "      <td>...</td>\n",
       "      <td>...</td>\n",
       "      <td>...</td>\n",
       "      <td>...</td>\n",
       "    </tr>\n",
       "    <tr>\n",
       "      <th>90</th>\n",
       "      <td>-1.620125e-14</td>\n",
       "      <td>0.549662</td>\n",
       "      <td>0.003313</td>\n",
       "      <td>0.099210</td>\n",
       "      <td>0.435995</td>\n",
       "      <td>0.025926</td>\n",
       "      <td>0.266590</td>\n",
       "      <td>1.0</td>\n",
       "    </tr>\n",
       "    <tr>\n",
       "      <th>91</th>\n",
       "      <td>-1.694738e-14</td>\n",
       "      <td>0.525733</td>\n",
       "      <td>0.177810</td>\n",
       "      <td>0.206350</td>\n",
       "      <td>0.164419</td>\n",
       "      <td>0.042429</td>\n",
       "      <td>0.624912</td>\n",
       "      <td>1.0</td>\n",
       "    </tr>\n",
       "    <tr>\n",
       "      <th>92</th>\n",
       "      <td>-1.803402e-14</td>\n",
       "      <td>0.428122</td>\n",
       "      <td>0.041834</td>\n",
       "      <td>0.464654</td>\n",
       "      <td>0.096531</td>\n",
       "      <td>0.065287</td>\n",
       "      <td>0.773187</td>\n",
       "      <td>1.0</td>\n",
       "    </tr>\n",
       "    <tr>\n",
       "      <th>93</th>\n",
       "      <td>-1.813487e-14</td>\n",
       "      <td>0.497074</td>\n",
       "      <td>0.014025</td>\n",
       "      <td>0.049563</td>\n",
       "      <td>0.414906</td>\n",
       "      <td>0.350872</td>\n",
       "      <td>0.240564</td>\n",
       "      <td>1.0</td>\n",
       "    </tr>\n",
       "    <tr>\n",
       "      <th>94</th>\n",
       "      <td>-2.621151e-14</td>\n",
       "      <td>0.357135</td>\n",
       "      <td>0.141032</td>\n",
       "      <td>0.039314</td>\n",
       "      <td>0.087563</td>\n",
       "      <td>0.030589</td>\n",
       "      <td>0.136962</td>\n",
       "      <td>1.0</td>\n",
       "    </tr>\n",
       "  </tbody>\n",
       "</table>\n",
       "<p>95 rows × 8 columns</p>\n",
       "</div>"
      ],
      "text/plain": [
       "            prob  win_down  marg_cont  marg_info      win0    win_up  \\\n",
       "0   6.657512e-01  0.000000   0.000000   0.000000  0.000000  0.000000   \n",
       "1   2.745678e-01  0.858314   0.047174   0.001325  0.755082  0.698057   \n",
       "2   5.968099e-02  1.000000   0.000000   0.000000  0.000000  0.000000   \n",
       "3   5.650824e-12  0.983138   0.265234   0.011955  0.652907  0.477736   \n",
       "4   4.029792e-12  0.988510   0.092423   0.002390  0.845113  0.549497   \n",
       "..           ...       ...        ...        ...       ...       ...   \n",
       "90 -1.620125e-14  0.549662   0.003313   0.099210  0.435995  0.025926   \n",
       "91 -1.694738e-14  0.525733   0.177810   0.206350  0.164419  0.042429   \n",
       "92 -1.803402e-14  0.428122   0.041834   0.464654  0.096531  0.065287   \n",
       "93 -1.813487e-14  0.497074   0.014025   0.049563  0.414906  0.350872   \n",
       "94 -2.621151e-14  0.357135   0.141032   0.039314  0.087563  0.030589   \n",
       "\n",
       "        cost  metric  \n",
       "0   0.000000     0.0  \n",
       "1   0.353535     0.0  \n",
       "2   1.000000     1.0  \n",
       "3   0.462338     0.0  \n",
       "4   0.753387     0.0  \n",
       "..       ...     ...  \n",
       "90  0.266590     1.0  \n",
       "91  0.624912     1.0  \n",
       "92  0.773187     1.0  \n",
       "93  0.240564     1.0  \n",
       "94  0.136962     1.0  \n",
       "\n",
       "[95 rows x 8 columns]"
      ]
     },
     "execution_count": 17,
     "metadata": {},
     "output_type": "execute_result"
    }
   ],
   "source": [
    "argmin"
   ]
  },
  {
   "cell_type": "code",
   "execution_count": 41,
   "metadata": {},
   "outputs": [
    {
     "name": "stdout",
     "output_type": "stream",
     "text": [
      "demands win_down     0.119131\n",
      "marg_cont    0.000000\n",
      "marg_info    0.032572\n",
      "win0         0.118337\n",
      "win_up       0.117307\n",
      "dtype: float64\n",
      "tolerance [[-0.11377556]\n",
      " [ 0.00117733]]\n",
      "solution 0.025531814536613143\n"
     ]
    }
   ],
   "source": [
    "ms_moment_matrix = np.array([\n",
    "    [0, 0, 0, 0, -1],\n",
    "    [0, 0, 0, 1, -1]\n",
    "])\n",
    "metric = rebidding.EfficientMultistageIsNonCompetitive\n",
    "metric.max_markup = .1\n",
    "metric.min_markup = .025\n",
    "\n",
    "deviations = [-1e-9, 0, .001]\n",
    "solver = asymptotics.ParallelAsymptoticMultistageSolver(\n",
    "    data=national_data,\n",
    "    deviations=deviations,\n",
    "    metric=metric,\n",
    "    plausibility_constraints=[environments.EmptyConstraint()],\n",
    "    num_points=500,\n",
    "    num_evaluations=2,\n",
    "    seed=0,\n",
    "    project=False,\n",
    "    filter_ties=None,\n",
    "    confidence_level=[.999, .951],\n",
    "    moment_matrix=ms_moment_matrix,\n",
    "    enhanced_guesses=True\n",
    ")\n",
    "\n",
    "print('demands', solver.get_solver(0).demands)\n",
    "\n",
    "print('tolerance', solver.get_solver(0).tolerance)\n",
    "\n",
    "print('solution', solver.result.solution)"
   ]
  },
  {
   "cell_type": "code",
   "execution_count": 39,
   "metadata": {},
   "outputs": [
    {
     "data": {
      "text/plain": [
       "0.905"
      ]
     },
     "execution_count": 39,
     "metadata": {},
     "output_type": "execute_result"
    }
   ],
   "source": [
    "1-.001 * .114/(.0012)"
   ]
  },
  {
   "cell_type": "code",
   "execution_count": 40,
   "metadata": {},
   "outputs": [
    {
     "data": {
      "text/plain": [
       "0.9090909090909091"
      ]
     },
     "execution_count": 40,
     "metadata": {},
     "output_type": "execute_result"
    }
   ],
   "source": [
    "1/1.1\n"
   ]
  },
  {
   "cell_type": "code",
   "execution_count": 32,
   "metadata": {},
   "outputs": [
    {
     "data": {
      "text/plain": [
       "0.864"
      ]
     },
     "execution_count": 32,
     "metadata": {},
     "output_type": "execute_result"
    }
   ],
   "source": [
    "1-.136\n"
   ]
  },
  {
   "cell_type": "code",
   "execution_count": 33,
   "metadata": {},
   "outputs": [
    {
     "ename": "SyntaxError",
     "evalue": "EOL while scanning string literal (<ipython-input-33-a49fa2e732a0>, line 1)",
     "output_type": "error",
     "traceback": [
      "\u001b[0;36m  File \u001b[0;32m\"<ipython-input-33-a49fa2e732a0>\"\u001b[0;36m, line \u001b[0;32m1\u001b[0m\n\u001b[0;31m    1/1+.1\"\u001b[0m\n\u001b[0m           ^\u001b[0m\n\u001b[0;31mSyntaxError\u001b[0m\u001b[0;31m:\u001b[0m EOL while scanning string literal\n"
     ]
    }
   ],
   "source": [
    "1/1+.1\""
   ]
  },
  {
   "cell_type": "code",
   "execution_count": null,
   "metadata": {},
   "outputs": [],
   "source": []
  }
 ],
 "metadata": {
  "jupytext": {
   "cell_metadata_filter": "-all",
   "main_language": "python",
   "notebook_metadata_filter": "-all"
  },
  "kernelspec": {
   "display_name": "Python 3",
   "language": "python",
   "name": "python3"
  },
  "language_info": {
   "codemirror_mode": {
    "name": "ipython",
    "version": 3
   },
   "file_extension": ".py",
   "mimetype": "text/x-python",
   "name": "python",
   "nbconvert_exporter": "python",
   "pygments_lexer": "ipython3",
   "version": "3.8.0"
  }
 },
 "nbformat": 4,
 "nbformat_minor": 4
}
