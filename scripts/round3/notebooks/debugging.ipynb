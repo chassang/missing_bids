{
 "cells": [
  {
   "cell_type": "code",
   "execution_count": 1,
   "metadata": {},
   "outputs": [],
   "source": [
    "from scripts.round3.figures_import_helper_r3 import *\n",
    "\n",
    "path = os.path.join(path_data, 'tsuchiura_data.csv')"
   ]
  },
  {
   "cell_type": "code",
   "execution_count": 2,
   "metadata": {},
   "outputs": [],
   "source": [
    "tsuchiura_data = asymptotics.PIDMeanAuctionData(path)\n",
    "tsuchiura_before_min_price_ = asymptotics.PIDMeanAuctionData(\n",
    "    tsuchiura_data.df_bids.loc[tsuchiura_data.data.minprice.isnull()])\n",
    "tsuchiura_before_min_price = asymptotics.PIDMeanAuctionData.from_clean_bids(\n",
    "    tsuchiura_before_min_price_.df_bids.loc[\n",
    "        tsuchiura_before_min_price_.df_bids.norm_bid > .9])"
   ]
  },
  {
   "cell_type": "code",
   "execution_count": 3,
   "metadata": {},
   "outputs": [],
   "source": [
    "filter_ties = auction_data.FilterTies(tolerance=.0001)\n",
    "tsuchiura_before_min_price_filtered = filter_ties(tsuchiura_before_min_price)"
   ]
  },
  {
   "cell_type": "code",
   "execution_count": 4,
   "metadata": {},
   "outputs": [],
   "source": [
    "empty_constraints = environments.EmptyConstraint()\n",
    "moment_matrix_up = np.array([[1, 0], [1, -1]])"
   ]
  },
  {
   "cell_type": "code",
   "execution_count": 5,
   "metadata": {},
   "outputs": [],
   "source": [
    "solver = asymptotics.ParallelAsymptoticSolver(\n",
    "            data=tsuchiura_before_min_price_filtered,\n",
    "            deviations=[.0, .0008],\n",
    "            metric=analytics.EfficientIsNonCompetitive,\n",
    "            plausibility_constraints=[empty_constraints],\n",
    "            num_points=1000,\n",
    "            seed=1,\n",
    "            project=False,\n",
    "            filter_ties=None,\n",
    "            num_evaluations=200,\n",
    "            confidence_level=.95,\n",
    "            moment_matrix=moment_matrix_up\n",
    "        )\n"
   ]
  },
  {
   "cell_type": "code",
   "execution_count": 6,
   "metadata": {},
   "outputs": [
    {
     "name": "stderr",
     "output_type": "stream",
     "text": [
      "/home/sylvain/workspace/missing_bids/mb_api/asymptotics.py:39: SettingWithCopyWarning: \n",
      "A value is trying to be set on a copy of a slice from a DataFrame.\n",
      "Try using .loc[row_indexer,col_indexer] = value instead\n",
      "\n",
      "See the caveats in the documentation: https://pandas.pydata.org/pandas-docs/stable/user_guide/indexing.html#returning-a-view-versus-a-copy\n",
      "  df_bids[rho] = self._get_new_wins(df_bids, rho)\n",
      "/home/sylvain/workspace/missing_bids/mb_api/asymptotics.py:32: SettingWithCopyWarning: \n",
      "A value is trying to be set on a copy of a slice from a DataFrame.\n",
      "Try using .loc[row_indexer,col_indexer] = value instead\n",
      "\n",
      "See the caveats in the documentation: https://pandas.pydata.org/pandas-docs/stable/user_guide/indexing.html#returning-a-view-versus-a-copy\n",
      "  win_vector['square_residual'] = \\\n"
     ]
    },
    {
     "data": {
      "text/plain": [
       "array([[2.55105923e-01],\n",
       "       [1.02031650e-05]])"
      ]
     },
     "execution_count": 6,
     "metadata": {},
     "output_type": "execute_result"
    }
   ],
   "source": [
    "solver.get_solver(0).tolerance"
   ]
  },
  {
   "cell_type": "code",
   "execution_count": 7,
   "metadata": {},
   "outputs": [
    {
     "data": {
      "text/plain": [
       "0.0000    0.213309\n",
       "0.0008    0.213309\n",
       "dtype: float64"
      ]
     },
     "execution_count": 7,
     "metadata": {},
     "output_type": "execute_result"
    }
   ],
   "source": [
    "solver.get_solver(0).demands"
   ]
  },
  {
   "cell_type": "code",
   "execution_count": 8,
   "metadata": {},
   "outputs": [
    {
     "data": {
      "text/plain": [
       "0.8723597700424045"
      ]
     },
     "execution_count": 8,
     "metadata": {},
     "output_type": "execute_result"
    }
   ],
   "source": [
    "solver.result.solution"
   ]
  },
  {
   "cell_type": "code",
   "execution_count": null,
   "metadata": {},
   "outputs": [],
   "source": []
  }
 ],
 "metadata": {
  "kernelspec": {
   "display_name": "Python 3",
   "language": "python",
   "name": "python3"
  },
  "language_info": {
   "codemirror_mode": {
    "name": "ipython",
    "version": 3
   },
   "file_extension": ".py",
   "mimetype": "text/x-python",
   "name": "python",
   "nbconvert_exporter": "python",
   "pygments_lexer": "ipython3",
   "version": "3.8.0"
  }
 },
 "nbformat": 4,
 "nbformat_minor": 4
}
