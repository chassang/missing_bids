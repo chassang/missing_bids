{
 "cells": [
  {
   "cell_type": "code",
   "execution_count": 1,
   "metadata": {},
   "outputs": [],
   "source": [
    "from scripts.round3.figures_import_helper_r3 import *"
   ]
  },
  {
   "cell_type": "code",
   "execution_count": 2,
   "metadata": {},
   "outputs": [],
   "source": [
    "list_data_sets = [\n",
    "    #('Bridges', 'bc_collusion.csv'),\n",
    "    #('Electric', 'ec_collusion.csv'),\n",
    "    #('Pre-Stressed Concrete', 'pc_collusion.csv'),\n",
    "    ('Floods', 'fc_collusion.csv')\n",
    "]"
   ]
  },
  {
   "cell_type": "code",
   "execution_count": 5,
   "metadata": {
    "scrolled": false
   },
   "outputs": [
    {
     "name": "stdout",
     "output_type": "stream",
     "text": [
      "fc_collusion.csv \n",
      "\n",
      " sample size\t 82\n",
      "win_down     0.230996\n",
      "marg_cont    0.001220\n",
      "marg_info    0.020562\n",
      "win0         0.194822\n",
      "win_up       0.194822\n",
      "dtype: float64 \n",
      "\n",
      " tolerances\n",
      " [[-1.22719433e-01]\n",
      " [ 2.79291140e-02]\n",
      " [ 2.96571488e-01]\n",
      " [ 2.83700960e-04]\n",
      " [-9.30723368e-02]] \n",
      "\n"
     ]
    }
   ],
   "source": [
    "file = 'fc_collusion.csv'\n",
    "data = asymptotics.MultistagePIDMeanAuctionData(\n",
    "os.path.join(path_data, file))\n",
    "data_before = asymptotics.MultistagePIDMeanAuctionData.from_clean_bids(\n",
    "data.df_bids.loc[data.data.before == 1])\n",
    "data_after = asymptotics.MultistagePIDMeanAuctionData.from_clean_bids(\n",
    "data.df_bids.loc[data.data.before.isnull()])\n",
    "\n",
    "filter_ties = auction_data.FilterTies()\n",
    "data_after = filter_ties(data_after)\n",
    "\n",
    "print(file, '\\n\\n sample size\\t', data_after.df_auctions.shape[0])\n",
    "print(data_after.demand_vector(all_deviations), '\\n')\n",
    "\n",
    "\n",
    "metric = rebidding.EfficientMultistageIsNonCompetitive\n",
    "metric.min_markup = .1\n",
    "solver = asymptotics.AsymptoticMultistageSolver(\n",
    "    data=data_after, \n",
    "    deviations=[-.02, 0, .001], \n",
    "    metric=metric, \n",
    "    plausibility_constraints=[environments.EmptyConstraint()],\n",
    "    num_points=1000, moment_matrix=multistage_moment_matrix,                 \n",
    "    confidence_level=.95, enhanced_guesses=True\n",
    ")\n",
    "print(' tolerances\\n', solver.tolerance, '\\n')"
   ]
  },
  {
   "cell_type": "code",
   "execution_count": 6,
   "metadata": {},
   "outputs": [
    {
     "data": {
      "text/plain": [
       "0.036569674219368"
      ]
     },
     "execution_count": 6,
     "metadata": {},
     "output_type": "execute_result"
    }
   ],
   "source": [
    "pb = solver.problem\n",
    "pb.problem.solve()"
   ]
  },
  {
   "cell_type": "code",
   "execution_count": 23,
   "metadata": {},
   "outputs": [
    {
     "data": {
      "text/plain": [
       "count    68.000000\n",
       "mean      0.922224\n",
       "std       0.078077\n",
       "min       0.641430\n",
       "25%       0.900099\n",
       "50%       0.928038\n",
       "75%       0.955463\n",
       "max       1.101962\n",
       "Name: lowest, dtype: float64"
      ]
     },
     "execution_count": 23,
     "metadata": {},
     "output_type": "execute_result"
    }
   ],
   "source": [
    "data_after.df_auctions['lowest'].describe()"
   ]
  },
  {
   "cell_type": "code",
   "execution_count": 28,
   "metadata": {},
   "outputs": [
    {
     "data": {
      "text/plain": [
       "0.0029411764705882353"
      ]
     },
     "execution_count": 28,
     "metadata": {},
     "output_type": "execute_result"
    }
   ],
   "source": [
    ".2/68"
   ]
  },
  {
   "cell_type": "code",
   "execution_count": 5,
   "metadata": {},
   "outputs": [
    {
     "data": {
      "text/html": [
       "<div>\n",
       "<style scoped>\n",
       "    .dataframe tbody tr th:only-of-type {\n",
       "        vertical-align: middle;\n",
       "    }\n",
       "\n",
       "    .dataframe tbody tr th {\n",
       "        vertical-align: top;\n",
       "    }\n",
       "\n",
       "    .dataframe thead th {\n",
       "        text-align: right;\n",
       "    }\n",
       "</style>\n",
       "<table border=\"1\" class=\"dataframe\">\n",
       "  <thead>\n",
       "    <tr style=\"text-align: right;\">\n",
       "      <th></th>\n",
       "      <th>prob</th>\n",
       "      <th>win_down</th>\n",
       "      <th>marg_cont</th>\n",
       "      <th>marg_info</th>\n",
       "      <th>win0</th>\n",
       "      <th>win_up</th>\n",
       "      <th>cost</th>\n",
       "      <th>metric</th>\n",
       "    </tr>\n",
       "  </thead>\n",
       "  <tbody>\n",
       "    <tr>\n",
       "      <th>0</th>\n",
       "      <td>0.784545</td>\n",
       "      <td>0.000000</td>\n",
       "      <td>0.000000</td>\n",
       "      <td>0.000000</td>\n",
       "      <td>0.000000</td>\n",
       "      <td>0.000000</td>\n",
       "      <td>0.000000</td>\n",
       "      <td>0.0</td>\n",
       "    </tr>\n",
       "    <tr>\n",
       "      <th>1</th>\n",
       "      <td>0.188643</td>\n",
       "      <td>0.908844</td>\n",
       "      <td>0.004235</td>\n",
       "      <td>0.011783</td>\n",
       "      <td>0.820767</td>\n",
       "      <td>0.815524</td>\n",
       "      <td>0.750958</td>\n",
       "      <td>0.0</td>\n",
       "    </tr>\n",
       "    <tr>\n",
       "      <th>2</th>\n",
       "      <td>0.012786</td>\n",
       "      <td>0.500828</td>\n",
       "      <td>0.185925</td>\n",
       "      <td>0.439655</td>\n",
       "      <td>0.286486</td>\n",
       "      <td>0.285175</td>\n",
       "      <td>0.050533</td>\n",
       "      <td>0.0</td>\n",
       "    </tr>\n",
       "    <tr>\n",
       "      <th>3</th>\n",
       "      <td>0.006672</td>\n",
       "      <td>1.000000</td>\n",
       "      <td>1.000000</td>\n",
       "      <td>1.000000</td>\n",
       "      <td>0.000000</td>\n",
       "      <td>0.000000</td>\n",
       "      <td>1.000000</td>\n",
       "      <td>0.0</td>\n",
       "    </tr>\n",
       "    <tr>\n",
       "      <th>4</th>\n",
       "      <td>0.006672</td>\n",
       "      <td>1.000000</td>\n",
       "      <td>1.000000</td>\n",
       "      <td>1.000000</td>\n",
       "      <td>0.000000</td>\n",
       "      <td>0.000000</td>\n",
       "      <td>0.000000</td>\n",
       "      <td>0.0</td>\n",
       "    </tr>\n",
       "    <tr>\n",
       "      <th>5</th>\n",
       "      <td>0.000195</td>\n",
       "      <td>0.592042</td>\n",
       "      <td>0.009549</td>\n",
       "      <td>0.255264</td>\n",
       "      <td>0.576157</td>\n",
       "      <td>0.572252</td>\n",
       "      <td>0.208498</td>\n",
       "      <td>0.0</td>\n",
       "    </tr>\n",
       "    <tr>\n",
       "      <th>6</th>\n",
       "      <td>0.000078</td>\n",
       "      <td>0.133888</td>\n",
       "      <td>0.103488</td>\n",
       "      <td>0.388073</td>\n",
       "      <td>0.025210</td>\n",
       "      <td>0.023008</td>\n",
       "      <td>0.529429</td>\n",
       "      <td>0.0</td>\n",
       "    </tr>\n",
       "    <tr>\n",
       "      <th>7</th>\n",
       "      <td>0.000026</td>\n",
       "      <td>0.221396</td>\n",
       "      <td>0.004258</td>\n",
       "      <td>0.460932</td>\n",
       "      <td>0.085311</td>\n",
       "      <td>0.080532</td>\n",
       "      <td>0.976700</td>\n",
       "      <td>0.0</td>\n",
       "    </tr>\n",
       "    <tr>\n",
       "      <th>8</th>\n",
       "      <td>0.000023</td>\n",
       "      <td>0.355889</td>\n",
       "      <td>0.039753</td>\n",
       "      <td>0.516866</td>\n",
       "      <td>0.303292</td>\n",
       "      <td>0.295892</td>\n",
       "      <td>0.901691</td>\n",
       "      <td>0.0</td>\n",
       "    </tr>\n",
       "    <tr>\n",
       "      <th>9</th>\n",
       "      <td>0.000021</td>\n",
       "      <td>0.805127</td>\n",
       "      <td>0.012244</td>\n",
       "      <td>0.130930</td>\n",
       "      <td>0.779111</td>\n",
       "      <td>0.769247</td>\n",
       "      <td>0.459294</td>\n",
       "      <td>0.0</td>\n",
       "    </tr>\n",
       "  </tbody>\n",
       "</table>\n",
       "</div>"
      ],
      "text/plain": [
       "       prob  win_down  marg_cont  marg_info      win0    win_up      cost  \\\n",
       "0  0.784545  0.000000   0.000000   0.000000  0.000000  0.000000  0.000000   \n",
       "1  0.188643  0.908844   0.004235   0.011783  0.820767  0.815524  0.750958   \n",
       "2  0.012786  0.500828   0.185925   0.439655  0.286486  0.285175  0.050533   \n",
       "3  0.006672  1.000000   1.000000   1.000000  0.000000  0.000000  1.000000   \n",
       "4  0.006672  1.000000   1.000000   1.000000  0.000000  0.000000  0.000000   \n",
       "5  0.000195  0.592042   0.009549   0.255264  0.576157  0.572252  0.208498   \n",
       "6  0.000078  0.133888   0.103488   0.388073  0.025210  0.023008  0.529429   \n",
       "7  0.000026  0.221396   0.004258   0.460932  0.085311  0.080532  0.976700   \n",
       "8  0.000023  0.355889   0.039753   0.516866  0.303292  0.295892  0.901691   \n",
       "9  0.000021  0.805127   0.012244   0.130930  0.779111  0.769247  0.459294   \n",
       "\n",
       "   metric  \n",
       "0     0.0  \n",
       "1     0.0  \n",
       "2     0.0  \n",
       "3     0.0  \n",
       "4     0.0  \n",
       "5     0.0  \n",
       "6     0.0  \n",
       "7     0.0  \n",
       "8     0.0  \n",
       "9     0.0  "
      ]
     },
     "execution_count": 5,
     "metadata": {},
     "output_type": "execute_result"
    }
   ],
   "source": [
    "solver.result.argmin.head(10)"
   ]
  },
  {
   "cell_type": "code",
   "execution_count": 6,
   "metadata": {},
   "outputs": [
    {
     "data": {
      "text/plain": [
       "array([[2.06364344e-14],\n",
       "       [2.35776236e-14],\n",
       "       [6.67223983e-03],\n",
       "       [6.67223983e-03],\n",
       "       [7.84545364e-01]])"
      ]
     },
     "execution_count": 6,
     "metadata": {},
     "output_type": "execute_result"
    }
   ],
   "source": [
    "pb.variable.value[-5:]"
   ]
  },
  {
   "cell_type": "code",
   "execution_count": 7,
   "metadata": {},
   "outputs": [
    {
     "data": {
      "text/plain": [
       "True"
      ]
     },
     "execution_count": 7,
     "metadata": {},
     "output_type": "execute_result"
    }
   ],
   "source": [
    "c = pb.constraints[-1]\n",
    "c.value()"
   ]
  },
  {
   "cell_type": "code",
   "execution_count": 8,
   "metadata": {},
   "outputs": [
    {
     "data": {
      "text/plain": [
       "array([[0.96366276, 0.05597224, 0.00499326, 0.891773  , 0.43758721],\n",
       "       [0.92559664, 0.29191006, 0.00395948, 0.56804456, 0.07103606],\n",
       "       [0.97861834, 0.08996824, 0.00244074, 0.87001215, 0.77815675],\n",
       "       ...,\n",
       "       [1.        , 1.        , 1.        , 0.        , 0.        ],\n",
       "       [1.        , 1.        , 1.        , 0.        , 0.        ],\n",
       "       [0.        , 0.        , 0.        , 0.        , 0.        ]])"
      ]
     },
     "execution_count": 8,
     "metadata": {},
     "output_type": "execute_result"
    }
   ],
   "source": [
    "pb._beliefs"
   ]
  },
  {
   "cell_type": "code",
   "execution_count": 9,
   "metadata": {},
   "outputs": [
    {
     "data": {
      "text/plain": [
       "array([[0.19156584, 0.01656595, 0.02136348, 0.15879307, 0.15775808]])"
      ]
     },
     "execution_count": 9,
     "metadata": {},
     "output_type": "execute_result"
    }
   ],
   "source": [
    "demands = pb.variable.value.T @ pb._beliefs\n",
    "demands"
   ]
  },
  {
   "cell_type": "code",
   "execution_count": 10,
   "metadata": {},
   "outputs": [
    {
     "data": {
      "text/plain": [
       "array([[-0.19156584],\n",
       "       [-0.00552508],\n",
       "       [ 0.15879307],\n",
       "       [ 0.00103498],\n",
       "       [-0.15775808]])"
      ]
     },
     "execution_count": 10,
     "metadata": {},
     "output_type": "execute_result"
    }
   ],
   "source": [
    "multistage_moment_matrix @ demands.T"
   ]
  },
  {
   "cell_type": "code",
   "execution_count": 11,
   "metadata": {},
   "outputs": [
    {
     "name": "stderr",
     "output_type": "stream",
     "text": [
      "/home/sylvain/.virtualenvs/py38-workspace/lib/python3.8/site-packages/pandas/core/indexing.py:845: SettingWithCopyWarning: \n",
      "A value is trying to be set on a copy of a slice from a DataFrame.\n",
      "Try using .loc[row_indexer,col_indexer] = value instead\n",
      "\n",
      "See the caveats in the documentation: https://pandas.pydata.org/pandas-docs/stable/user_guide/indexing.html#returning-a-view-versus-a-copy\n",
      "  self.obj[key] = _infer_fill_value(value)\n",
      "/home/sylvain/.virtualenvs/py38-workspace/lib/python3.8/site-packages/pandas/core/indexing.py:966: SettingWithCopyWarning: \n",
      "A value is trying to be set on a copy of a slice from a DataFrame.\n",
      "Try using .loc[row_indexer,col_indexer] = value instead\n",
      "\n",
      "See the caveats in the documentation: https://pandas.pydata.org/pandas-docs/stable/user_guide/indexing.html#returning-a-view-versus-a-copy\n",
      "  self.obj[item] = s\n"
     ]
    },
    {
     "data": {
      "text/plain": [
       "array([[-7.54549127e-05],\n",
       "       [-4.41663260e-05],\n",
       "       [-7.31529960e-02],\n",
       "       [-1.21734650e-07],\n",
       "       [-6.03180591e-05]])"
      ]
     },
     "execution_count": 11,
     "metadata": {},
     "output_type": "execute_result"
    }
   ],
   "source": [
    "multistage_moment_matrix @ demands.T - solver.tolerance"
   ]
  },
  {
   "cell_type": "code",
   "execution_count": null,
   "metadata": {},
   "outputs": [],
   "source": []
  }
 ],
 "metadata": {
  "jupytext": {
   "cell_metadata_filter": "-all",
   "main_language": "python",
   "notebook_metadata_filter": "-all"
  },
  "kernelspec": {
   "display_name": "Python 3",
   "language": "python",
   "name": "python3"
  },
  "language_info": {
   "codemirror_mode": {
    "name": "ipython",
    "version": 3
   },
   "file_extension": ".py",
   "mimetype": "text/x-python",
   "name": "python",
   "nbconvert_exporter": "python",
   "pygments_lexer": "ipython3",
   "version": "3.8.0"
  }
 },
 "nbformat": 4,
 "nbformat_minor": 4
}
