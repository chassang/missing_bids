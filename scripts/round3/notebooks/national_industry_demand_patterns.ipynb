{
 "cells": [
  {
   "cell_type": "code",
   "execution_count": 2,
   "metadata": {},
   "outputs": [],
   "source": [
    "from scripts.round3.figures_import_helper_r3 import *"
   ]
  },
  {
   "cell_type": "code",
   "execution_count": 11,
   "metadata": {},
   "outputs": [],
   "source": [
    "list_data_sets = [\n",
    "    ('Bridges', 'bc_collusion.csv'),\n",
    "    ('Electric', 'ec_collusion.csv'),\n",
    "    ('Pre-Stressed Concrete', 'pc_collusion.csv'),\n",
    "    ('Floods', 'fc_collusion.csv')\n",
    "]"
   ]
  },
  {
   "cell_type": "code",
   "execution_count": 19,
   "metadata": {},
   "outputs": [
    {
     "name": "stdout",
     "output_type": "stream",
     "text": [
      "Bridges \n",
      "\n",
      " sample size\t 8\n",
      "win_down     0.260038\n",
      "marg_cont    0.000000\n",
      "marg_info    0.000000\n",
      "win0         0.195644\n",
      "win_up       0.184280\n",
      "dtype: float64 \n",
      "\n",
      " tolerances\n",
      " [[-0.01282379]\n",
      " [ 0.12498438]\n",
      " [-0.0594389 ]\n",
      " [ 0.0046897 ]] \n",
      "\n"
     ]
    },
    {
     "name": "stderr",
     "output_type": "stream",
     "text": [
      "/home/sylvain/workspace/missing_bids/mb_api/asymptotics.py:74: SettingWithCopyWarning: \n",
      "A value is trying to be set on a copy of a slice from a DataFrame.\n",
      "Try using .loc[row_indexer,col_indexer] = value instead\n",
      "\n",
      "See the caveats in the documentation: https://pandas.pydata.org/pandas-docs/stable/user_guide/indexing.html#returning-a-view-versus-a-copy\n",
      "  df_bids[col] = self._get_new_wins(df_bids, rho)\n",
      "/home/sylvain/workspace/missing_bids/mb_api/asymptotics.py:75: SettingWithCopyWarning: \n",
      "A value is trying to be set on a copy of a slice from a DataFrame.\n",
      "Try using .loc[row_indexer,col_indexer] = value instead\n",
      "\n",
      "See the caveats in the documentation: https://pandas.pydata.org/pandas-docs/stable/user_guide/indexing.html#returning-a-view-versus-a-copy\n",
      "  df_bids['marg_cont'] = self.is_marginal_cont(df_bids, down_dev)\n",
      "/home/sylvain/workspace/missing_bids/mb_api/asymptotics.py:76: SettingWithCopyWarning: \n",
      "A value is trying to be set on a copy of a slice from a DataFrame.\n",
      "Try using .loc[row_indexer,col_indexer] = value instead\n",
      "\n",
      "See the caveats in the documentation: https://pandas.pydata.org/pandas-docs/stable/user_guide/indexing.html#returning-a-view-versus-a-copy\n",
      "  df_bids['marg_info'] = self.is_marginal_info(df_bids, down_dev)\n",
      "/home/sylvain/.virtualenvs/py38-workspace/lib/python3.8/site-packages/pandas/core/indexing.py:845: SettingWithCopyWarning: \n",
      "A value is trying to be set on a copy of a slice from a DataFrame.\n",
      "Try using .loc[row_indexer,col_indexer] = value instead\n",
      "\n",
      "See the caveats in the documentation: https://pandas.pydata.org/pandas-docs/stable/user_guide/indexing.html#returning-a-view-versus-a-copy\n",
      "  self.obj[key] = _infer_fill_value(value)\n",
      "/home/sylvain/.virtualenvs/py38-workspace/lib/python3.8/site-packages/pandas/core/indexing.py:966: SettingWithCopyWarning: \n",
      "A value is trying to be set on a copy of a slice from a DataFrame.\n",
      "Try using .loc[row_indexer,col_indexer] = value instead\n",
      "\n",
      "See the caveats in the documentation: https://pandas.pydata.org/pandas-docs/stable/user_guide/indexing.html#returning-a-view-versus-a-copy\n",
      "  self.obj[item] = s\n"
     ]
    },
    {
     "name": "stdout",
     "output_type": "stream",
     "text": [
      "Electric \n",
      "\n",
      " sample size\t 128\n",
      "win_down     0.252043\n",
      "marg_cont    0.011359\n",
      "marg_info    0.017727\n",
      "win0         0.232084\n",
      "win_up       0.229666\n",
      "dtype: float64 \n",
      "\n",
      " tolerances\n",
      " [[-0.00425404]\n",
      " [ 0.07434088]\n",
      " [-0.11931708]\n",
      " [ 0.00392613]] \n",
      "\n",
      "Pre-Stressed Concrete \n",
      "\n",
      " sample size\t 68\n",
      "win_down     0.233707\n",
      "marg_cont    0.014940\n",
      "marg_info    0.029000\n",
      "win0         0.111886\n",
      "win_up       0.111886\n",
      "dtype: float64 \n",
      "\n",
      " tolerances\n",
      " [[-7.08031074e-02]\n",
      " [ 2.12383903e-01]\n",
      " [-6.16805236e-02]\n",
      " [ 7.81122486e-05]] \n",
      "\n",
      "Floods \n",
      "\n",
      " sample size\t 84\n",
      "win_down     0.238591\n",
      "marg_cont    0.001190\n",
      "marg_info    0.026025\n",
      "win0         0.194350\n",
      "win_up       0.190183\n",
      "dtype: float64 \n",
      "\n",
      " tolerances\n",
      " [[-0.03506403]\n",
      " [ 0.08183192]\n",
      " [-0.09511038]\n",
      " [ 0.00187392]] \n",
      "\n"
     ]
    }
   ],
   "source": [
    "for name, file in list_data_sets:\n",
    "    data = asymptotics.MultistagePIDMeanAuctionData(\n",
    "    os.path.join(path_data, file))\n",
    "    data_before = asymptotics.MultistagePIDMeanAuctionData.from_clean_bids(\n",
    "    data.df_bids.loc[data.data.before == 1])\n",
    "    data_after = asymptotics.MultistagePIDMeanAuctionData.from_clean_bids(\n",
    "    data.df_bids.loc[data.data.before.isnull()])\n",
    "\n",
    "    print(name, '\\n\\n sample size\\t', data_after.df_auctions.shape[0])\n",
    "    print(data_after.demand_vector(all_deviations), '\\n')\n",
    "    \n",
    "    solver = asymptotics.AsymptoticMultistageSolver(\n",
    "        data=data, \n",
    "        deviations=all_deviations, \n",
    "        metric=rebidding.EfficientMultistageIsNonCompetitive, \n",
    "        plausibility_constraints=[environments.EmptyConstraint()],\n",
    "        num_points=1000, moment_matrix=multistage_moment_matrix,                 \n",
    "        confidence_level=.95, enhanced_guesses=True\n",
    "    )\n",
    "    print(' tolerances\\n', solver.tolerance, '\\n')"
   ]
  },
  {
   "cell_type": "code",
   "execution_count": 18,
   "metadata": {},
   "outputs": [
    {
     "data": {
      "text/plain": [
       "array([[-1,  0,  0,  0,  0],\n",
       "       [ 0,  1,  0,  0,  0],\n",
       "       [ 0,  0,  1,  0,  0],\n",
       "       [ 0,  0,  0,  1,  0],\n",
       "       [ 0,  0,  0,  0, -1]])"
      ]
     },
     "execution_count": 18,
     "metadata": {},
     "output_type": "execute_result"
    }
   ],
   "source": [
    "solver._moment_matrix"
   ]
  },
  {
   "cell_type": "code",
   "execution_count": 20,
   "metadata": {},
   "outputs": [
    {
     "data": {
      "text/plain": [
       "0.00011180339887498948"
      ]
     },
     "execution_count": 20,
     "metadata": {},
     "output_type": "execute_result"
    }
   ],
   "source": [
    ".001/np.sqrt(80)"
   ]
  },
  {
   "cell_type": "code",
   "execution_count": null,
   "metadata": {},
   "outputs": [],
   "source": []
  }
 ],
 "metadata": {
  "jupytext": {
   "cell_metadata_filter": "-all",
   "main_language": "python",
   "notebook_metadata_filter": "-all"
  },
  "kernelspec": {
   "display_name": "Python 3",
   "language": "python",
   "name": "python3"
  },
  "language_info": {
   "codemirror_mode": {
    "name": "ipython",
    "version": 3
   },
   "file_extension": ".py",
   "mimetype": "text/x-python",
   "name": "python",
   "nbconvert_exporter": "python",
   "pygments_lexer": "ipython3",
   "version": "3.8.0"
  }
 },
 "nbformat": 4,
 "nbformat_minor": 4
}
