{
 "cells": [
  {
   "cell_type": "code",
   "execution_count": 1,
   "metadata": {},
   "outputs": [],
   "source": [
    "from figures_import_helper import *"
   ]
  },
  {
   "cell_type": "code",
   "execution_count": 2,
   "metadata": {},
   "outputs": [],
   "source": [
    "file, deviations =  'bc_collusion.csv', [-.025, .0, .001]\n",
    " \n",
    "data = auction_data.AuctionData(os.path.join(path_data, file))\n",
    "\n",
    "\n",
    "data_before = auction_data.AuctionData(\n",
    "    data.df_bids.loc[data.data.before == 1])\n",
    "\n",
    "data_after = auction_data.AuctionData(\n",
    "    data.df_bids.loc[data.data.before.isnull()])\n",
    "\n",
    "this_data = data_before"
   ]
  },
  {
   "cell_type": "code",
   "execution_count": 3,
   "metadata": {},
   "outputs": [
    {
     "data": {
      "image/png": "[encoded data removed]",
      "text/plain": [
       "<Figure size 720x432 with 1 Axes>"
      ]
     },
     "metadata": {},
     "output_type": "display_data"
    }
   ],
   "source": [
    "delta = this_data.df_bids.norm_bid - this_data.df_bids.most_competitive\n",
    "hist_plot(delta)"
   ]
  },
  {
   "cell_type": "code",
   "execution_count": 4,
   "metadata": {},
   "outputs": [],
   "source": [
    "k = 1\n",
    "\n",
    "demands = [this_data.get_counterfactual_demand(rho)\n",
    "           for rho in deviations]\n",
    "\n",
    "constraints = [\n",
    "    environments.MarkupConstraint(\n",
    "        max_markup=.5, min_markup=.02),\n",
    "    environments.InformationConstraint(k=k, sample_demands=demands)\n",
    "]"
   ]
  },
  {
   "cell_type": "code",
   "execution_count": 5,
   "metadata": {},
   "outputs": [],
   "source": [
    "this_solver = analytics.MinCollusionIterativeSolver(\n",
    "    data=this_data,\n",
    "    deviations=deviations,\n",
    "    metric=analytics.IsNonCompetitive,\n",
    "    plausibility_constraints=constraints,\n",
    "    num_points=3000,\n",
    "    seed=0,\n",
    "    project=False,\n",
    "    filter_ties=None,\n",
    "    number_iterations=50,\n",
    "    confidence_level=.986,\n",
    "    moment_matrix=auction_data.moment_matrix(deviations, 'slope'),\n",
    "    moment_weights=np.identity(3)\n",
    "    #np.array((len(deviations)-1) * [0] + [1])\n",
    ")"
   ]
  },
  {
   "cell_type": "code",
   "execution_count": 6,
   "metadata": {},
   "outputs": [
    {
     "data": {
      "text/plain": [
       "array([[3.53741603e-04],\n",
       "       [2.37463288e-04],\n",
       "       [5.29375946e-07]])"
      ]
     },
     "execution_count": 6,
     "metadata": {},
     "output_type": "execute_result"
    }
   ],
   "source": [
    "this_solver.tolerance"
   ]
  },
  {
   "cell_type": "code",
   "execution_count": 7,
   "metadata": {},
   "outputs": [
    {
     "data": {
      "text/plain": [
       "array([0.27693536, 0.09696728, 0.09656824])"
      ]
     },
     "execution_count": 7,
     "metadata": {},
     "output_type": "execute_result"
    }
   ],
   "source": [
    "this_solver.demands"
   ]
  },
  {
   "cell_type": "code",
   "execution_count": 8,
   "metadata": {},
   "outputs": [
    {
     "data": {
      "text/plain": [
       "0.5226406570464919"
      ]
     },
     "execution_count": 8,
     "metadata": {},
     "output_type": "execute_result"
    }
   ],
   "source": [
    "this_solver.result.solution"
   ]
  },
  {
   "cell_type": "code",
   "execution_count": null,
   "metadata": {},
   "outputs": [],
   "source": []
  }
 ],
 "metadata": {
  "kernelspec": {
   "display_name": "Python 3",
   "language": "python",
   "name": "python3"
  },
  "language_info": {
   "codemirror_mode": {
    "name": "ipython",
    "version": 3
   },
   "file_extension": ".py",
   "mimetype": "text/x-python",
   "name": "python",
   "nbconvert_exporter": "python",
   "pygments_lexer": "ipython3",
   "version": "3.5.2"
  }
 },
 "nbformat": 4,
 "nbformat_minor": 2
}
