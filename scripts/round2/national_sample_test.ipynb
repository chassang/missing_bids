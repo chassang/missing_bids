{
 "cells": [
  {
   "cell_type": "code",
   "execution_count": 1,
   "metadata": {
    "lines_to_next_cell": 2
   },
   "outputs": [],
   "source": [
    "from scripts.figures_import_helper import *"
   ]
  },
  {
   "cell_type": "markdown",
   "metadata": {},
   "source": [
    "national data"
   ]
  },
  {
   "cell_type": "code",
   "execution_count": 5,
   "metadata": {},
   "outputs": [
    {
     "name": "stdout",
     "output_type": "stream",
     "text": [
      "====================\n",
      "National sample\n",
      "collecting and processing data\n"
     ]
    }
   ],
   "source": [
    "print('='*20 + '\\n' + 'National sample')\n",
    "print('collecting and processing data')\n",
    "national_data = rebidding.RefinedMultistageData(\n",
    "    os.path.join(path_data, 'sample_with_firm_rank.csv'))\n",
    "\n",
    "filter_ties = auction_data.FilterTies(tolerance=.0001)\n",
    "filtered_data = filter_ties(national_data)"
   ]
  },
  {
   "cell_type": "code",
   "execution_count": 3,
   "metadata": {},
   "outputs": [],
   "source": [
    "r2_min_mkps = [.0,  .05, .1]\n",
    "\n",
    "\n",
    "def round2_constraints(demands):\n",
    "    return [\n",
    "        [environments.MarkupConstraint(max_markup=.5, min_markup=min_markup)]\n",
    "        for min_markup in r2_min_mkps\n",
    "    ]"
   ]
  },
  {
   "cell_type": "code",
   "execution_count": 4,
   "metadata": {},
   "outputs": [],
   "source": [
    "list_devs = [\n",
    "    [-1e-9, 0, .0005] , [-.02, 0, 1e-9], all_deviations]\n",
    "list_solutions = []"
   ]
  },
  {
   "cell_type": "code",
   "execution_count": 18,
   "metadata": {},
   "outputs": [],
   "source": [
    "deviations = [-.02, 0, 1e-9]"
   ]
  },
  {
   "cell_type": "code",
   "execution_count": 19,
   "metadata": {},
   "outputs": [
    {
     "data": {
      "text/plain": [
       "0.9592209701544158"
      ]
     },
     "execution_count": 19,
     "metadata": {},
     "output_type": "execute_result"
    }
   ],
   "source": [
    "constraints = [\n",
    "    environments.MarkupConstraint(max_markup=.5, min_markup=.02)]\n",
    "\n",
    "min_collusion_solver = rebidding.ParallelRefinedMultistageSolver(\n",
    "    data=filtered_data,\n",
    "    deviations=deviations,\n",
    "    metric=rebidding.RefinedMultistageIsNonCompetitive,\n",
    "    plausibility_constraints=constraints,\n",
    "    num_points=3000,\n",
    "    seed=0,\n",
    "    project=False,\n",
    "    filter_ties=None,\n",
    "    num_evaluations=20,\n",
    "    confidence_level=1 - .05 / len(deviations),\n",
    "    moment_matrix=rebidding.refined_moment_matrix(),\n",
    "    moment_weights=np.identity(5)\n",
    ")\n",
    "\n",
    "min_collusion_solver.result.solution"
   ]
  },
  {
   "cell_type": "code",
   "execution_count": 17,
   "metadata": {},
   "outputs": [
    {
     "data": {
      "text/plain": [
       "[0.3358209254752536,\n",
       " 0.018832205265150653,\n",
       " 0.07208308861010138,\n",
       " 0.10554918569041385,\n",
       " 0.10554918569041385]"
      ]
     },
     "execution_count": 17,
     "metadata": {},
     "output_type": "execute_result"
    }
   ],
   "source": [
    "deviations = [-.02, 0, 1e-9]\n",
    "filtered_data.assemble_target_moments(deviations)"
   ]
  },
  {
   "cell_type": "code",
   "execution_count": null,
   "metadata": {},
   "outputs": [],
   "source": []
  }
 ],
 "metadata": {
  "jupytext": {
   "cell_metadata_filter": "-all",
   "main_language": "python",
   "notebook_metadata_filter": "-all"
  },
  "kernelspec": {
   "display_name": "Python 3",
   "language": "python",
   "name": "python3"
  },
  "language_info": {
   "codemirror_mode": {
    "name": "ipython",
    "version": 3
   },
   "file_extension": ".py",
   "mimetype": "text/x-python",
   "name": "python",
   "nbconvert_exporter": "python",
   "pygments_lexer": "ipython3",
   "version": "3.7.4"
  }
 },
 "nbformat": 4,
 "nbformat_minor": 4
}
