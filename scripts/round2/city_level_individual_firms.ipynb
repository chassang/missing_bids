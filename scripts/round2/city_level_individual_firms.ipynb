{
 "cells": [
  {
   "cell_type": "code",
   "execution_count": 1,
   "metadata": {},
   "outputs": [],
   "source": [
    "from scripts.figures_import_helper import *\n",
    "%matplotlib inline"
   ]
  },
  {
   "cell_type": "markdown",
   "metadata": {},
   "source": [
    "before/after industry comparisons, using national data"
   ]
  },
  {
   "cell_type": "code",
   "execution_count": 2,
   "metadata": {},
   "outputs": [],
   "source": [
    "filename = 'municipal_pub_reserve_no_pricefloor.csv'"
   ]
  },
  {
   "cell_type": "code",
   "execution_count": 3,
   "metadata": {},
   "outputs": [
    {
     "data": {
      "image/png": "[encoded data removed]",
      "text/plain": [
       "<Figure size 720x432 with 1 Axes>"
      ]
     },
     "metadata": {},
     "output_type": "display_data"
    }
   ],
   "source": [
    "filter_ties = auction_data.FilterTies(tolerance=.0001)\n",
    "\n",
    "data = filter_ties(\n",
    "    auction_data.AuctionData(os.path.join(path_data, filename)))\n",
    "plot_delta(data)"
   ]
  },
  {
   "cell_type": "code",
   "execution_count": 4,
   "metadata": {},
   "outputs": [
    {
     "data": {
      "text/html": [
       "<div>\n",
       "<style>\n",
       "    .dataframe thead tr:only-child th {\n",
       "        text-align: right;\n",
       "    }\n",
       "\n",
       "    .dataframe thead th {\n",
       "        text-align: left;\n",
       "    }\n",
       "\n",
       "    .dataframe tbody tr th {\n",
       "        vertical-align: top;\n",
       "    }\n",
       "</style>\n",
       "<table border=\"1\" class=\"dataframe\">\n",
       "  <thead>\n",
       "    <tr style=\"text-align: right;\">\n",
       "      <th></th>\n",
       "      <th>pid</th>\n",
       "      <th>norm_bid</th>\n",
       "      <th>bid</th>\n",
       "      <th>reserveprice</th>\n",
       "      <th>lowest</th>\n",
       "      <th>second_lowest</th>\n",
       "      <th>most_competitive</th>\n",
       "    </tr>\n",
       "  </thead>\n",
       "  <tbody>\n",
       "    <tr>\n",
       "      <th>0</th>\n",
       "      <td>32848.0</td>\n",
       "      <td>0.900438</td>\n",
       "      <td>66600000</td>\n",
       "      <td>73964000</td>\n",
       "      <td>0.900438</td>\n",
       "      <td>0.904494</td>\n",
       "      <td>0.904494</td>\n",
       "    </tr>\n",
       "    <tr>\n",
       "      <th>1</th>\n",
       "      <td>32062.0</td>\n",
       "      <td>0.997915</td>\n",
       "      <td>3350000</td>\n",
       "      <td>3357000</td>\n",
       "      <td>0.977063</td>\n",
       "      <td>0.994936</td>\n",
       "      <td>0.977063</td>\n",
       "    </tr>\n",
       "    <tr>\n",
       "      <th>2</th>\n",
       "      <td>34164.0</td>\n",
       "      <td>0.975607</td>\n",
       "      <td>101550000</td>\n",
       "      <td>104089000</td>\n",
       "      <td>0.903073</td>\n",
       "      <td>0.907877</td>\n",
       "      <td>0.903073</td>\n",
       "    </tr>\n",
       "    <tr>\n",
       "      <th>3</th>\n",
       "      <td>136907.0</td>\n",
       "      <td>0.962980</td>\n",
       "      <td>2750000</td>\n",
       "      <td>2855720</td>\n",
       "      <td>0.938467</td>\n",
       "      <td>0.952474</td>\n",
       "      <td>0.938467</td>\n",
       "    </tr>\n",
       "    <tr>\n",
       "      <th>4</th>\n",
       "      <td>96724.0</td>\n",
       "      <td>0.924216</td>\n",
       "      <td>7580000</td>\n",
       "      <td>8201550</td>\n",
       "      <td>0.920558</td>\n",
       "      <td>0.924216</td>\n",
       "      <td>0.920558</td>\n",
       "    </tr>\n",
       "  </tbody>\n",
       "</table>\n",
       "</div>"
      ],
      "text/plain": [
       "        pid  norm_bid        bid  reserveprice    lowest  second_lowest  \\\n",
       "0   32848.0  0.900438   66600000      73964000  0.900438       0.904494   \n",
       "1   32062.0  0.997915    3350000       3357000  0.977063       0.994936   \n",
       "2   34164.0  0.975607  101550000     104089000  0.903073       0.907877   \n",
       "3  136907.0  0.962980    2750000       2855720  0.938467       0.952474   \n",
       "4   96724.0  0.924216    7580000       8201550  0.920558       0.924216   \n",
       "\n",
       "   most_competitive  \n",
       "0          0.904494  \n",
       "1          0.977063  \n",
       "2          0.903073  \n",
       "3          0.938467  \n",
       "4          0.920558  "
      ]
     },
     "execution_count": 4,
     "metadata": {},
     "output_type": "execute_result"
    }
   ],
   "source": [
    "data.df_bids.head()"
   ]
  },
  {
   "cell_type": "code",
   "execution_count": 5,
   "metadata": {},
   "outputs": [
    {
     "data": {
      "text/plain": [
       "Int64Index([ 6318, 23259, 20391,  4536, 20989, 17152,  7721, 18868, 14396,\n",
       "            22655, 24265, 21981, 14247, 15668, 23249, 19818, 13238, 23431,\n",
       "            17111, 23458, 25258, 17628, 25808, 22199, 23224, 25547, 25122,\n",
       "            12519, 11396, 19381],\n",
       "           dtype='int64', name='bidder_id')"
      ]
     },
     "execution_count": 5,
     "metadata": {},
     "output_type": "execute_result"
    }
   ],
   "source": [
    "num_auctions_by_bidder = data.data.groupby('bidder_id').size()\n",
    "top30_bidders = num_auctions_by_bidder.sort_values(ascending=False).head(30)\n",
    "top30_bidders = top30_bidders.index\n",
    "top30_bidders"
   ]
  },
  {
   "cell_type": "code",
   "execution_count": 9,
   "metadata": {},
   "outputs": [
    {
     "name": "stdout",
     "output_type": "stream",
     "text": [
      "firm 1\n",
      "firm 2\n",
      "firm 3\n",
      "firm 4\n",
      "firm 5\n",
      "firm 6\n",
      "firm 7\n",
      "firm 8\n",
      "firm 9\n",
      "firm 10\n",
      "firm 11\n",
      "firm 12\n",
      "firm 13\n",
      "firm 14\n",
      "firm 15\n",
      "firm 16\n",
      "firm 17\n",
      "firm 18\n",
      "firm 19\n",
      "firm 20\n",
      "firm 21\n",
      "firm 22\n",
      "firm 23\n",
      "firm 24\n",
      "firm 25\n",
      "firm 26\n",
      "firm 27\n",
      "firm 28\n",
      "firm 29\n",
      "firm 30\n"
     ]
    }
   ],
   "source": [
    "deviations = [-.025, .0, .001]\n",
    "list_solutions = []\n",
    "for i, bidder in enumerate(top30_bidders):    \n",
    "    print('firm {}'.format(i + 1))\n",
    "    data_firm = auction_data.AuctionData.from_clean_bids(\n",
    "        data.df_bids.loc[data.data.bidder_id == bidder])\n",
    "    demand_firm = data_firm.assemble_target_moments(deviations)\n",
    "    constraints = [environments.MarkupConstraint(max_markup=.5, min_markup=.05)]\n",
    "\n",
    "    min_collusion_solver = solvers.ParallelSolver(\n",
    "        data=data_firm,\n",
    "        deviations=deviations,\n",
    "        metric=analytics.IsNonCompetitive,\n",
    "        plausibility_constraints=constraints,\n",
    "        num_points=NUM_POINTS,\n",
    "        seed=0,\n",
    "        project=False,\n",
    "        filter_ties=None,\n",
    "        num_evaluations=NUM_EVAL,\n",
    "        confidence_level=1 - .05 / len(deviations),\n",
    "        moment_matrix=auction_data.moment_matrix(deviations, 'slope'),\n",
    "        moment_weights=np.identity(len(deviations))\n",
    "    )\n",
    "    \n",
    "    list_solutions.append([i, bidder, min_collusion_solver.result.solution])"
   ]
  },
  {
   "cell_type": "code",
   "execution_count": 10,
   "metadata": {},
   "outputs": [
    {
     "name": "stdout",
     "output_type": "stream",
     "text": [
      "saving data\n",
      "\n"
     ]
    }
   ],
   "source": [
    "print('saving data\\n')\n",
    "save2frame(list_solutions,\n",
    "           ['rank', 'bidder_id', 'share competitive'],\n",
    "           'R2/city_auctions_individual_firms')"
   ]
  },
  {
   "cell_type": "code",
   "execution_count": null,
   "metadata": {},
   "outputs": [],
   "source": []
  }
 ],
 "metadata": {
  "jupytext": {
   "cell_metadata_filter": "-all",
   "main_language": "python",
   "notebook_metadata_filter": "-all"
  },
  "kernelspec": {
   "display_name": "Python 2",
   "language": "python",
   "name": "python2"
  },
  "language_info": {
   "codemirror_mode": {
    "name": "ipython",
    "version": 3
   },
   "file_extension": ".py",
   "mimetype": "text/x-python",
   "name": "python",
   "nbconvert_exporter": "python",
   "pygments_lexer": "ipython3",
   "version": "3.6.7"
  }
 },
 "nbformat": 4,
 "nbformat_minor": 2
}
