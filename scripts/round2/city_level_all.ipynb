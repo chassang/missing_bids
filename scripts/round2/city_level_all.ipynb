{
 "cells": [
  {
   "cell_type": "code",
   "execution_count": null,
   "metadata": {},
   "outputs": [],
   "source": [
    "from scripts.figures_import_helper import *"
   ]
  },
  {
   "cell_type": "markdown",
   "metadata": {},
   "source": [
    "before/after industry comparisons, using national data"
   ]
  },
  {
   "cell_type": "code",
   "execution_count": null,
   "metadata": {},
   "outputs": [],
   "source": [
    "list_data_sets = [\n",
    "    ('Bridges', 'bc_collusion.csv', [-.025, .0, .001]),\n",
    "    ('Electric', 'ec_collusion.csv', [-.025, .0, .001]),\n",
    "    ('Pre-Stressed Concrete', 'pc_collusion.csv', [-.025, .0, .001]),\n",
    "    ('Floods', 'fc_collusion.csv', [-.03, .0, .001])\n",
    "]"
   ]
  },
  {
   "cell_type": "code",
   "execution_count": null,
   "metadata": {},
   "outputs": [],
   "source": [
    "for industry, file, deviations in list_data_sets:\n",
    "    print('='*20 + '\\n' + industry)\n",
    "    print('collecting and processing data')\n",
    "    data = auction_data.AuctionData(os.path.join(path_data, file))\n",
    "    data_before = auction_data.AuctionData(\n",
    "        data.df_bids.loc[data.data.before == 1])\n",
    "    data_after = auction_data.AuctionData(\n",
    "        data.df_bids.loc[data.data.before.isnull()])\n",
    "\n",
    "    print('computing before/after problem solution')\n",
    "    solutions_before, _ = compute_minimization_solution_unfiltered(\n",
    "        data_before, deviations)\n",
    "    solutions_after, _ = compute_minimization_solution_unfiltered(\n",
    "        data_after, deviations)\n",
    "    del data\n",
    "    del data_before\n",
    "    del data_after\n",
    "\n",
    "    print('saving plot\\n')\n",
    "    pretty_plot(os.path.join('R1', industry),\n",
    "                np.array([1 - solutions_before, 1 - solutions_after]),\n",
    "                np.array([\"before investigation\", \"after investigation\"]))"
   ]
  }
 ],
 "metadata": {
  "jupytext": {
   "cell_metadata_filter": "-all",
   "main_language": "python",
   "notebook_metadata_filter": "-all"
  }
 },
 "nbformat": 4,
 "nbformat_minor": 2
}
