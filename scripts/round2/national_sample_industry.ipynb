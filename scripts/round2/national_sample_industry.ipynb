{
 "cells": [
  {
   "cell_type": "code",
   "execution_count": null,
   "metadata": {
    "lines_to_next_cell": 2
   },
   "outputs": [],
   "source": [
    "from scripts.figures_import_helper import *"
   ]
  },
  {
   "cell_type": "code",
   "execution_count": null,
   "metadata": {},
   "outputs": [],
   "source": [
    "print('='*20 + '\\n' + 'National sample (high/low bids)')\n",
    "print('collecting and processing data')\n",
    "national_data = rebidding.RefinedMultistageData(\n",
    "    os.path.join(path_data, 'sample_with_firm_rank.csv'))"
   ]
  },
  {
   "cell_type": "code",
   "execution_count": null,
   "metadata": {},
   "outputs": [],
   "source": [
    "national_data_above = rebidding.RefinedMultistageData.from_clean_bids(\n",
    "    national_data.df_bids.loc[national_data.data.norm_bid.between(0.8, .95)])\n",
    "national_data_below = rebidding.RefinedMultistageData.from_clean_bids(\n",
    "    national_data.df_bids.loc[national_data.data.norm_bid < 0.8])"
   ]
  },
  {
   "cell_type": "code",
   "execution_count": null,
   "metadata": {
    "lines_to_next_cell": 2
   },
   "outputs": [],
   "source": [
    "plot_delta(national_data_above, filename='R2/national_data_above_deltas')\n",
    "plot_delta(national_data_below, filename='R2/national_data_below_deltas')"
   ]
  },
  {
   "cell_type": "code",
   "execution_count": null,
   "metadata": {},
   "outputs": [],
   "source": [
    "print('computing problem solutions')\n",
    "deviations = [-.025, .0, .001]\n",
    "solutions_above, _ = compute_solution_rebidding(\n",
    "    national_data_above, deviations)\n",
    "solutions_below, _ = compute_solution_rebidding(\n",
    "     national_data_below, deviations)"
   ]
  },
  {
   "cell_type": "code",
   "execution_count": null,
   "metadata": {},
   "outputs": [],
   "source": [
    "print('saving plot\\n')\n",
    "pretty_plot('R2/high vs low normalized bids (national auctions)',\n",
    "            [1 - solutions_above, 1 - solutions_below],\n",
    "            [\"normalized bid within [.8, .95]\", \"normalized bid below .8\"],\n",
    "            xlabel='m',\n",
    "            xticks=r2_min_mkps)"
   ]
  },
  {
   "cell_type": "code",
   "execution_count": null,
   "metadata": {},
   "outputs": [],
   "source": [
    "print('saving data\\n')\n",
    "save2frame([1 - solutions_above, 1 - solutions_below],\n",
    "           ['min_m={}'.format(m) for m in r2_min_mkps],\n",
    "           'R2/high vs low normalized bids (national auctions)')"
   ]
  }
 ],
 "metadata": {
  "jupytext": {
   "cell_metadata_filter": "-all",
   "main_language": "python",
   "notebook_metadata_filter": "-all"
  },
  "kernelspec": {
   "display_name": "Python 3",
   "language": "python",
   "name": "python3"
  },
  "language_info": {
   "codemirror_mode": {
    "name": "ipython",
    "version": 3
   },
   "file_extension": ".py",
   "mimetype": "text/x-python",
   "name": "python",
   "nbconvert_exporter": "python",
   "pygments_lexer": "ipython3",
   "version": "3.6.7"
  }
 },
 "nbformat": 4,
 "nbformat_minor": 2
}
