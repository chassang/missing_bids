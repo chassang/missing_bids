{
 "cells": [
  {
   "cell_type": "code",
   "execution_count": 1,
   "metadata": {},
   "outputs": [],
   "source": [
    "from scripts.figures_import_helper import *"
   ]
  },
  {
   "cell_type": "markdown",
   "metadata": {},
   "source": [
    "before/after collusion scandal industry comparisons, using national data"
   ]
  },
  {
   "cell_type": "code",
   "execution_count": 2,
   "metadata": {},
   "outputs": [],
   "source": [
    "list_data_sets = [\n",
    "    ('Bridges', 'bc_collusion.csv'),\n",
    "    ('Electric', 'ec_collusion.csv'),\n",
    "    ('Pre-Stressed Concrete', 'pc_collusion.csv'),\n",
    "    ('Floods', 'fc_collusion.csv')\n",
    "]"
   ]
  },
  {
   "cell_type": "code",
   "execution_count": null,
   "metadata": {},
   "outputs": [
    {
     "name": "stdout",
     "output_type": "stream",
     "text": [
      "====================\n",
      "Bridges\n",
      "collecting and processing data\n",
      "computing before/after problem solution\n"
     ]
    }
   ],
   "source": [
    "deviations = [-.025, .0, .001]\n",
    "for industry, file in list_data_sets:\n",
    "    print('='*20 + '\\n' + industry)\n",
    "    print('collecting and processing data')\n",
    "    data = rebidding.RefinedMultistageData(\n",
    "        os.path.join(path_data, file))\n",
    "    data_before = rebidding.RefinedMultistageData.from_clean_bids(\n",
    "        data.df_bids.loc[data.data.before == 1])\n",
    "    data_after = rebidding.RefinedMultistageData.from_clean_bids(\n",
    "        data.df_bids.loc[data.data.before.isnull()])\n",
    "    plot_delta(data=data_before, filename='R2/{}_delta_before'.format(industry))\n",
    "    plot_delta(data=data_after, filename='R2/{}_delta_after'.format(industry))\n",
    "\n",
    "    print('computing before/after problem solution')\n",
    "    solutions_before, _ = compute_solution_rebidding(\n",
    "        data_before, deviations)\n",
    "    solutions_after, _ = compute_solution_rebidding(\n",
    "        data_after, deviations)\n",
    "    del data\n",
    "    del data_before\n",
    "    del data_after\n",
    "\n",
    "    print('saving plot\\n')\n",
    "    pretty_plot(os.path.join('R2', industry),\n",
    "                np.array([1 - solutions_before, 1 - solutions_after]),\n",
    "                np.array([\"before investigation\", \"after investigation\"]))"
   ]
  },
  {
   "cell_type": "code",
   "execution_count": null,
   "metadata": {},
   "outputs": [],
   "source": []
  }
 ],
 "metadata": {
  "jupytext": {
   "cell_metadata_filter": "-all",
   "main_language": "python",
   "notebook_metadata_filter": "-all"
  },
  "kernelspec": {
   "display_name": "Python 3",
   "language": "python",
   "name": "python3"
  },
  "language_info": {
   "codemirror_mode": {
    "name": "ipython",
    "version": 3
   },
   "file_extension": ".py",
   "mimetype": "text/x-python",
   "name": "python",
   "nbconvert_exporter": "python",
   "pygments_lexer": "ipython3",
   "version": "3.6.7"
  }
 },
 "nbformat": 4,
 "nbformat_minor": 2
}
