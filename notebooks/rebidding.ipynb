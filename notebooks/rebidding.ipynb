{
 "cells": [
  {
   "cell_type": "code",
   "execution_count": 2,
   "metadata": {},
   "outputs": [],
   "source": [
    "from scripts.figures_import_helper import path_data"
   ]
  },
  {
   "cell_type": "code",
   "execution_count": 9,
   "metadata": {},
   "outputs": [],
   "source": [
    "import os\n",
    "import pandas as pd\n",
    "import rebidding"
   ]
  },
  {
   "cell_type": "code",
   "execution_count": 3,
   "metadata": {},
   "outputs": [
    {
     "data": {
      "text/plain": [
       "'/home/sylvain/Dropbox/Econ/papiers/gameTheory/missing_bids/data/data_for_missing_bids_figures'"
      ]
     },
     "execution_count": 3,
     "metadata": {},
     "output_type": "execute_result"
    }
   ],
   "source": [
    "path_data"
   ]
  },
  {
   "cell_type": "code",
   "execution_count": 6,
   "metadata": {},
   "outputs": [],
   "source": [
    "fc_collusion_path = os.path.join(path_data, 'fc_collusion.csv')\n",
    "df_collusion = pd.read_csv(fc_collusion_path)"
   ]
  },
  {
   "cell_type": "code",
   "execution_count": 7,
   "metadata": {},
   "outputs": [
    {
     "data": {
      "text/plain": [
       "Index(['tend_date', 'cont_date', 'reserveprice', 'low_limit', 'tech_point',\n",
       "       'score', 'nd_bid_value', 'nd_score', 'rd_bid_value', 'rd_score', 'v18',\n",
       "       'reason', 'proj_cat', 'aucform', 'ubtec', 'lc', 'nbid', 'anb',\n",
       "       'proj_size', 'branch_id', 'v70', 'year', 'mo', 'day', 'duplicate',\n",
       "       'dup', 'open', 'bid', 'low_limit_n', 'winbid', 'pid', 'bidder_id',\n",
       "       'second_round', 'fyear', 'before', 'norm_bid'],\n",
       "      dtype='object')"
      ]
     },
     "execution_count": 7,
     "metadata": {},
     "output_type": "execute_result"
    }
   ],
   "source": [
    "df_collusion.columns"
   ]
  },
  {
   "cell_type": "code",
   "execution_count": 16,
   "metadata": {},
   "outputs": [
    {
     "data": {
      "text/html": [
       "<div>\n",
       "<style scoped>\n",
       "    .dataframe tbody tr th:only-of-type {\n",
       "        vertical-align: middle;\n",
       "    }\n",
       "\n",
       "    .dataframe tbody tr th {\n",
       "        vertical-align: top;\n",
       "    }\n",
       "\n",
       "    .dataframe thead th {\n",
       "        text-align: right;\n",
       "    }\n",
       "</style>\n",
       "<table border=\"1\" class=\"dataframe\">\n",
       "  <thead>\n",
       "    <tr style=\"text-align: right;\">\n",
       "      <th></th>\n",
       "      <th>pid</th>\n",
       "      <th>norm_bid</th>\n",
       "      <th>bid</th>\n",
       "      <th>reserveprice</th>\n",
       "      <th>lowest</th>\n",
       "      <th>second_lowest</th>\n",
       "      <th>most_competitive</th>\n",
       "    </tr>\n",
       "  </thead>\n",
       "  <tbody>\n",
       "    <tr>\n",
       "      <th>0</th>\n",
       "      <td>27365</td>\n",
       "      <td>0.989011</td>\n",
       "      <td>13500000.0</td>\n",
       "      <td>13650000</td>\n",
       "      <td>0.879121</td>\n",
       "      <td>0.952381</td>\n",
       "      <td>0.879121</td>\n",
       "    </tr>\n",
       "    <tr>\n",
       "      <th>1</th>\n",
       "      <td>45532</td>\n",
       "      <td>0.904523</td>\n",
       "      <td>3600000.0</td>\n",
       "      <td>3980000</td>\n",
       "      <td>0.854271</td>\n",
       "      <td>0.891960</td>\n",
       "      <td>0.854271</td>\n",
       "    </tr>\n",
       "    <tr>\n",
       "      <th>2</th>\n",
       "      <td>34495</td>\n",
       "      <td>1.008957</td>\n",
       "      <td>93500000.0</td>\n",
       "      <td>92670000</td>\n",
       "      <td>0.981979</td>\n",
       "      <td>1.008957</td>\n",
       "      <td>0.981979</td>\n",
       "    </tr>\n",
       "    <tr>\n",
       "      <th>3</th>\n",
       "      <td>17091</td>\n",
       "      <td>1.029783</td>\n",
       "      <td>61200000.0</td>\n",
       "      <td>59430000</td>\n",
       "      <td>0.975938</td>\n",
       "      <td>0.997813</td>\n",
       "      <td>0.975938</td>\n",
       "    </tr>\n",
       "    <tr>\n",
       "      <th>4</th>\n",
       "      <td>14416</td>\n",
       "      <td>1.003107</td>\n",
       "      <td>184000000.0</td>\n",
       "      <td>183430000</td>\n",
       "      <td>0.954042</td>\n",
       "      <td>0.978030</td>\n",
       "      <td>0.954042</td>\n",
       "    </tr>\n",
       "  </tbody>\n",
       "</table>\n",
       "</div>"
      ],
      "text/plain": [
       "     pid  norm_bid          bid  reserveprice    lowest  second_lowest  \\\n",
       "0  27365  0.989011   13500000.0      13650000  0.879121       0.952381   \n",
       "1  45532  0.904523    3600000.0       3980000  0.854271       0.891960   \n",
       "2  34495  1.008957   93500000.0      92670000  0.981979       1.008957   \n",
       "3  17091  1.029783   61200000.0      59430000  0.975938       0.997813   \n",
       "4  14416  1.003107  184000000.0     183430000  0.954042       0.978030   \n",
       "\n",
       "   most_competitive  \n",
       "0          0.879121  \n",
       "1          0.854271  \n",
       "2          0.981979  \n",
       "3          0.975938  \n",
       "4          0.954042  "
      ]
     },
     "execution_count": 16,
     "metadata": {},
     "output_type": "execute_result"
    }
   ],
   "source": [
    "data = rebidding.MultistageAuctionData(df_collusion)\n",
    "df_bids = data.df_bids\n",
    "df_bids.head()"
   ]
  },
  {
   "cell_type": "code",
   "execution_count": 17,
   "metadata": {},
   "outputs": [],
   "source": [
    "cont = df_bids['lowest'] > 1"
   ]
  },
  {
   "cell_type": "code",
   "execution_count": 18,
   "metadata": {},
   "outputs": [
    {
     "data": {
      "text/plain": [
       "0.18991899189918993"
      ]
     },
     "execution_count": 18,
     "metadata": {},
     "output_type": "execute_result"
    }
   ],
   "source": [
    "cont.mean()"
   ]
  },
  {
   "cell_type": "code",
   "execution_count": 20,
   "metadata": {},
   "outputs": [],
   "source": [
    "df_bids['res_over_bid'] = df_bids.reserveprice / df_bids.bid"
   ]
  },
  {
   "cell_type": "code",
   "execution_count": 21,
   "metadata": {},
   "outputs": [],
   "source": [
    "sel_marginal_cont = (df_bids['lowest'] > 1) & (df_bids['norm_bid'] * .98 < 1)"
   ]
  },
  {
   "cell_type": "code",
   "execution_count": 23,
   "metadata": {},
   "outputs": [],
   "source": [
    "sel_marginal_info = (df_bids['lowest'] > 1) & (df_bids['norm_bid'] * .98 > 1) & (\n",
    "        df_bids['norm_bid'] * .98 < df_bids['lowest']\n",
    ")"
   ]
  },
  {
   "cell_type": "code",
   "execution_count": 24,
   "metadata": {},
   "outputs": [
    {
     "data": {
      "text/plain": [
       "count    1899.000000\n",
       "mean        0.893847\n",
       "std         0.068404\n",
       "min         0.526207\n",
       "25%         0.856923\n",
       "50%         0.910307\n",
       "75%         0.944828\n",
       "max         0.999407\n",
       "Name: res_over_bid, dtype: float64"
      ]
     },
     "execution_count": 24,
     "metadata": {},
     "output_type": "execute_result"
    }
   ],
   "source": [
    "df_bids[cont].res_over_bid.describe()"
   ]
  },
  {
   "cell_type": "code",
   "execution_count": 25,
   "metadata": {},
   "outputs": [
    {
     "data": {
      "text/plain": [
       "count    91.000000\n",
       "mean      0.988564\n",
       "std       0.005593\n",
       "min       0.980190\n",
       "25%       0.984020\n",
       "50%       0.987447\n",
       "75%       0.993063\n",
       "max       0.999407\n",
       "Name: res_over_bid, dtype: float64"
      ]
     },
     "execution_count": 25,
     "metadata": {},
     "output_type": "execute_result"
    }
   ],
   "source": [
    "df_bids[sel_marginal_cont].res_over_bid.describe()"
   ]
  },
  {
   "cell_type": "code",
   "execution_count": 26,
   "metadata": {},
   "outputs": [
    {
     "data": {
      "text/plain": [
       "count    359.000000\n",
       "mean       0.921545\n",
       "std        0.054738\n",
       "min        0.737131\n",
       "25%        0.892063\n",
       "50%        0.940741\n",
       "75%        0.962610\n",
       "max        0.980000\n",
       "Name: res_over_bid, dtype: float64"
      ]
     },
     "execution_count": 26,
     "metadata": {},
     "output_type": "execute_result"
    }
   ],
   "source": [
    "df_bids[sel_marginal_info].res_over_bid.describe()"
   ]
  },
  {
   "cell_type": "code",
   "execution_count": null,
   "metadata": {},
   "outputs": [],
   "source": []
  }
 ],
 "metadata": {
  "kernelspec": {
   "display_name": "Python 3",
   "language": "python",
   "name": "python3"
  },
  "language_info": {
   "codemirror_mode": {
    "name": "ipython",
    "version": 3
   },
   "file_extension": ".py",
   "mimetype": "text/x-python",
   "name": "python",
   "nbconvert_exporter": "python",
   "pygments_lexer": "ipython3",
   "version": "3.6.8"
  }
 },
 "nbformat": 4,
 "nbformat_minor": 2
}
