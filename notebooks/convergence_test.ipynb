{
 "cells": [
  {
   "cell_type": "code",
   "execution_count": 10,
   "metadata": {},
   "outputs": [],
   "source": [
    "from missing_bids import auction_data, analytics, environments\n",
    "hist_plot = auction_data.hist_plot\n",
    "import seaborn as sns\n",
    "import pandas as pd\n",
    "import matplotlib.pyplot as plt\n",
    "import numpy as np\n",
    "sns.set_style('white')\n",
    "%matplotlib inline"
   ]
  },
  {
   "cell_type": "code",
   "execution_count": 11,
   "metadata": {},
   "outputs": [],
   "source": [
    "tsuchiura_data = auction_data.AuctionData('../tests/reference_data/tsuchiura_data.csv')\n",
    "\n",
    "tsuchiura_before_min_price = auction_data.AuctionData(\n",
    "    tsuchiura_data.df_bids.loc[tsuchiura_data.data.minprice.isnull()])"
   ]
  },
  {
   "cell_type": "code",
   "execution_count": 12,
   "metadata": {},
   "outputs": [],
   "source": [
    "filter_ties = auction_data.FilterTies(tolerance=.0001)\n",
    "filtered_data = filter_ties(tsuchiura_before_min_price)"
   ]
  },
  {
   "cell_type": "code",
   "execution_count": 13,
   "metadata": {},
   "outputs": [
    {
     "name": "stdout",
     "output_type": "stream",
     "text": [
      "[0.657617728531856, 0.21772853185595567, 0.2149584487534626]\n"
     ]
    }
   ],
   "source": [
    "deviations = [-.02, .0, .0015] # [.0, .0008]\n",
    "demands = [filtered_data.get_counterfactual_demand(rho) for rho in deviations]\n",
    "print(demands)"
   ]
  },
  {
   "cell_type": "code",
   "execution_count": 14,
   "metadata": {},
   "outputs": [],
   "source": [
    "constraints = [environments.MarkupConstraint(max_markup=.5, min_markup=.01), \n",
    "               environments.InformationConstraint(k=.5, sample_demands=demands)]"
   ]
  },
  {
   "cell_type": "code",
   "execution_count": 19,
   "metadata": {},
   "outputs": [
    {
     "name": "stdout",
     "output_type": "stream",
     "text": [
      "solver demands: [0.65899123 0.21792763 0.2127193 ]\n",
      "rough tolerance T^2: 0.0021929824561403508\n",
      "bootstrapped tolerance T^2: 9.092340912588504e-06\n",
      "minimum share of collusive auctions: 0.43313431206954106\n"
     ]
    },
    {
     "data": {
      "text/html": [
       "<div>\n",
       "<style>\n",
       "    .dataframe thead tr:only-child th {\n",
       "        text-align: right;\n",
       "    }\n",
       "\n",
       "    .dataframe thead th {\n",
       "        text-align: left;\n",
       "    }\n",
       "\n",
       "    .dataframe tbody tr th {\n",
       "        vertical-align: top;\n",
       "    }\n",
       "</style>\n",
       "<table border=\"1\" class=\"dataframe\">\n",
       "  <thead>\n",
       "    <tr style=\"text-align: right;\">\n",
       "      <th></th>\n",
       "      <th>-0.02</th>\n",
       "      <th>0.0</th>\n",
       "      <th>0.0015</th>\n",
       "      <th>cost</th>\n",
       "      <th>metric</th>\n",
       "      <th>prob</th>\n",
       "    </tr>\n",
       "  </thead>\n",
       "  <tbody>\n",
       "    <tr>\n",
       "      <th>0</th>\n",
       "      <td>0.696554</td>\n",
       "      <td>0.171825</td>\n",
       "      <td>0.159112</td>\n",
       "      <td>0.980837</td>\n",
       "      <td>0.0</td>\n",
       "      <td>5.668657e-01</td>\n",
       "    </tr>\n",
       "    <tr>\n",
       "      <th>1</th>\n",
       "      <td>0.747599</td>\n",
       "      <td>0.154728</td>\n",
       "      <td>0.152381</td>\n",
       "      <td>0.945621</td>\n",
       "      <td>1.0</td>\n",
       "      <td>4.331343e-01</td>\n",
       "    </tr>\n",
       "    <tr>\n",
       "      <th>2</th>\n",
       "      <td>0.586474</td>\n",
       "      <td>0.180097</td>\n",
       "      <td>0.177709</td>\n",
       "      <td>0.936770</td>\n",
       "      <td>1.0</td>\n",
       "      <td>1.979669e-10</td>\n",
       "    </tr>\n",
       "    <tr>\n",
       "      <th>3</th>\n",
       "      <td>0.637473</td>\n",
       "      <td>0.197980</td>\n",
       "      <td>0.195434</td>\n",
       "      <td>0.711506</td>\n",
       "      <td>1.0</td>\n",
       "      <td>1.589892e-11</td>\n",
       "    </tr>\n",
       "    <tr>\n",
       "      <th>4</th>\n",
       "      <td>0.692348</td>\n",
       "      <td>0.169282</td>\n",
       "      <td>0.166708</td>\n",
       "      <td>0.983969</td>\n",
       "      <td>1.0</td>\n",
       "      <td>1.448258e-11</td>\n",
       "    </tr>\n",
       "  </tbody>\n",
       "</table>\n",
       "</div>"
      ],
      "text/plain": [
       "      -0.02       0.0    0.0015      cost  metric          prob\n",
       "0  0.696554  0.171825  0.159112  0.980837     0.0  5.668657e-01\n",
       "1  0.747599  0.154728  0.152381  0.945621     1.0  4.331343e-01\n",
       "2  0.586474  0.180097  0.177709  0.936770     1.0  1.979669e-10\n",
       "3  0.637473  0.197980  0.195434  0.711506     1.0  1.589892e-11\n",
       "4  0.692348  0.169282  0.166708  0.983969     1.0  1.448258e-11"
      ]
     },
     "execution_count": 19,
     "metadata": {},
     "output_type": "execute_result"
    }
   ],
   "source": [
    "# result with seed 0\n",
    "\n",
    "min_collusion_solver = analytics.MinCollusionIterativeSolver(\n",
    "    data=tsuchiura_before_min_price, \n",
    "    deviations=deviations, \n",
    "    metric=analytics.IsNonCompetitive, \n",
    "    plausibility_constraints=constraints, \n",
    "    num_points=1000.0, \n",
    "    seed=0, \n",
    "    project=True, \n",
    "    filter_ties=None,\n",
    "    number_iterations=500,\n",
    "    confidence_level=.95,\n",
    "    moment_matrix=auction_data.moment_matrix(deviations, 'slope'),\n",
    "    moment_weights=np.array([0, 0, 1])\n",
    ")\n",
    "\n",
    "print('solver demands: {}'.format(min_collusion_solver.demands))\n",
    "print('rough tolerance T^2: {}'.format(4. / tsuchiura_before_min_price.df_bids.shape[0]))\n",
    "print('bootstrapped tolerance T^2: {}'.format(min_collusion_solver.tolerance))\n",
    "\n",
    "result = min_collusion_solver.result\n",
    "print('minimum share of collusive auctions: {}'.format(result.solution))\n",
    "result.argmin.head()"
   ]
  },
  {
   "cell_type": "code",
   "execution_count": 20,
   "metadata": {},
   "outputs": [
    {
     "name": "stdout",
     "output_type": "stream",
     "text": [
      "solver demands: [0.65899123 0.21792763 0.2127193 ]\n",
      "rough tolerance T^2: 0.0021929824561403508\n",
      "bootstrapped tolerance T^2: 9.092340912588504e-06\n",
      "minimum share of collusive auctions: 0.4354237511996902\n"
     ]
    },
    {
     "data": {
      "text/html": [
       "<div>\n",
       "<style>\n",
       "    .dataframe thead tr:only-child th {\n",
       "        text-align: right;\n",
       "    }\n",
       "\n",
       "    .dataframe thead th {\n",
       "        text-align: left;\n",
       "    }\n",
       "\n",
       "    .dataframe tbody tr th {\n",
       "        vertical-align: top;\n",
       "    }\n",
       "</style>\n",
       "<table border=\"1\" class=\"dataframe\">\n",
       "  <thead>\n",
       "    <tr style=\"text-align: right;\">\n",
       "      <th></th>\n",
       "      <th>-0.02</th>\n",
       "      <th>0.0</th>\n",
       "      <th>0.0015</th>\n",
       "      <th>cost</th>\n",
       "      <th>metric</th>\n",
       "      <th>prob</th>\n",
       "    </tr>\n",
       "  </thead>\n",
       "  <tbody>\n",
       "    <tr>\n",
       "      <th>0</th>\n",
       "      <td>0.592016</td>\n",
       "      <td>0.172746</td>\n",
       "      <td>0.160043</td>\n",
       "      <td>0.976881</td>\n",
       "      <td>0.0</td>\n",
       "      <td>5.645762e-01</td>\n",
       "    </tr>\n",
       "    <tr>\n",
       "      <th>1</th>\n",
       "      <td>0.618059</td>\n",
       "      <td>0.148133</td>\n",
       "      <td>0.145716</td>\n",
       "      <td>0.705606</td>\n",
       "      <td>1.0</td>\n",
       "      <td>4.354237e-01</td>\n",
       "    </tr>\n",
       "    <tr>\n",
       "      <th>2</th>\n",
       "      <td>0.730595</td>\n",
       "      <td>0.155162</td>\n",
       "      <td>0.152740</td>\n",
       "      <td>0.952311</td>\n",
       "      <td>1.0</td>\n",
       "      <td>2.766409e-08</td>\n",
       "    </tr>\n",
       "    <tr>\n",
       "      <th>3</th>\n",
       "      <td>0.733666</td>\n",
       "      <td>0.184400</td>\n",
       "      <td>0.181844</td>\n",
       "      <td>0.977717</td>\n",
       "      <td>1.0</td>\n",
       "      <td>2.109497e-10</td>\n",
       "    </tr>\n",
       "    <tr>\n",
       "      <th>4</th>\n",
       "      <td>0.693012</td>\n",
       "      <td>0.170511</td>\n",
       "      <td>0.167905</td>\n",
       "      <td>0.985866</td>\n",
       "      <td>1.0</td>\n",
       "      <td>2.054493e-10</td>\n",
       "    </tr>\n",
       "  </tbody>\n",
       "</table>\n",
       "</div>"
      ],
      "text/plain": [
       "      -0.02       0.0    0.0015      cost  metric          prob\n",
       "0  0.592016  0.172746  0.160043  0.976881     0.0  5.645762e-01\n",
       "1  0.618059  0.148133  0.145716  0.705606     1.0  4.354237e-01\n",
       "2  0.730595  0.155162  0.152740  0.952311     1.0  2.766409e-08\n",
       "3  0.733666  0.184400  0.181844  0.977717     1.0  2.109497e-10\n",
       "4  0.693012  0.170511  0.167905  0.985866     1.0  2.054493e-10"
      ]
     },
     "execution_count": 20,
     "metadata": {},
     "output_type": "execute_result"
    }
   ],
   "source": [
    "# result with seed 1\n",
    "\n",
    "min_collusion_solver = analytics.MinCollusionIterativeSolver(\n",
    "    data=tsuchiura_before_min_price, \n",
    "    deviations=deviations, \n",
    "    metric=analytics.IsNonCompetitive, \n",
    "    plausibility_constraints=constraints, \n",
    "    num_points=1000.0, \n",
    "    seed=1, \n",
    "    project=True, \n",
    "    filter_ties=None,\n",
    "    number_iterations=500,\n",
    "    confidence_level=.95,\n",
    "    moment_matrix=auction_data.moment_matrix(deviations, 'slope'),\n",
    "    moment_weights=np.array([0, 0, 1])\n",
    ")\n",
    "\n",
    "print('solver demands: {}'.format(min_collusion_solver.demands))\n",
    "print('rough tolerance T^2: {}'.format(4. / tsuchiura_before_min_price.df_bids.shape[0]))\n",
    "print('bootstrapped tolerance T^2: {}'.format(min_collusion_solver.tolerance))\n",
    "\n",
    "result = min_collusion_solver.result\n",
    "print('minimum share of collusive auctions: {}'.format(result.solution))\n",
    "result.argmin.head()"
   ]
  },
  {
   "cell_type": "code",
   "execution_count": null,
   "metadata": {},
   "outputs": [],
   "source": []
  }
 ],
 "metadata": {
  "kernelspec": {
   "display_name": "Python 3",
   "language": "python",
   "name": "python3"
  },
  "language_info": {
   "codemirror_mode": {
    "name": "ipython",
    "version": 3
   },
   "file_extension": ".py",
   "mimetype": "text/x-python",
   "name": "python",
   "nbconvert_exporter": "python",
   "pygments_lexer": "ipython3",
   "version": "3.5.2"
  }
 },
 "nbformat": 4,
 "nbformat_minor": 2
}
