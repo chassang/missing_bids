{
 "cells": [
  {
   "cell_type": "code",
   "execution_count": 1,
   "metadata": {},
   "outputs": [],
   "source": [
    "from missing_bids import auction_data, analytics, environments\n",
    "hist_plot = auction_data.hist_plot\n",
    "import seaborn as sns\n",
    "import pandas as pd\n",
    "import matplotlib.pyplot as plt\n",
    "import numpy as np\n",
    "sns.set_style('white')\n",
    "%matplotlib inline"
   ]
  },
  {
   "cell_type": "code",
   "execution_count": 2,
   "metadata": {},
   "outputs": [],
   "source": [
    "tsuchiura_data = auction_data.AuctionData('../tests/reference_data/tsuchiura_data.csv')\n",
    "\n",
    "tsuchiura_before_min_price = auction_data.AuctionData(\n",
    "    tsuchiura_data.df_bids.loc[tsuchiura_data.data.minprice.isnull()])"
   ]
  },
  {
   "cell_type": "code",
   "execution_count": 3,
   "metadata": {},
   "outputs": [],
   "source": [
    "filter_ties = auction_data.FilterTies(tolerance=.0001)\n",
    "filtered_data = filter_ties(tsuchiura_before_min_price)"
   ]
  },
  {
   "cell_type": "code",
   "execution_count": 4,
   "metadata": {},
   "outputs": [
    {
     "name": "stdout",
     "output_type": "stream",
     "text": [
      "[0.657617728531856, 0.21772853185595567, 0.21717451523545706]\n"
     ]
    }
   ],
   "source": [
    "deviations = [-.02, .0, .001] # [.0, .0008]\n",
    "demands = [filtered_data.get_counterfactual_demand(rho) for rho in deviations]\n",
    "print(demands)"
   ]
  },
  {
   "cell_type": "code",
   "execution_count": 5,
   "metadata": {},
   "outputs": [],
   "source": [
    "constraints = [environments.MarkupConstraint(max_markup=.5, min_markup=.01), \n",
    "               environments.InformationConstraint(k=.5, sample_demands=demands)]"
   ]
  },
  {
   "cell_type": "code",
   "execution_count": 8,
   "metadata": {},
   "outputs": [
    {
     "name": "stdout",
     "output_type": "stream",
     "text": [
      "solver demands: [0.65899123 0.21792763 0.21491228]\n",
      "rough tolerance T^2: 0.0021929824561403508\n",
      "bootstrapped tolerance T^2: 3.7383798380272766e-06\n",
      "minimum share of collusive auctions: 0.14376307442528846\n"
     ]
    },
    {
     "data": {
      "text/html": [
       "<div>\n",
       "<style>\n",
       "    .dataframe thead tr:only-child th {\n",
       "        text-align: right;\n",
       "    }\n",
       "\n",
       "    .dataframe thead th {\n",
       "        text-align: left;\n",
       "    }\n",
       "\n",
       "    .dataframe tbody tr th {\n",
       "        vertical-align: top;\n",
       "    }\n",
       "</style>\n",
       "<table border=\"1\" class=\"dataframe\">\n",
       "  <thead>\n",
       "    <tr style=\"text-align: right;\">\n",
       "      <th></th>\n",
       "      <th>-0.02</th>\n",
       "      <th>0.0</th>\n",
       "      <th>0.001</th>\n",
       "      <th>cost</th>\n",
       "      <th>metric</th>\n",
       "      <th>prob</th>\n",
       "    </tr>\n",
       "  </thead>\n",
       "  <tbody>\n",
       "    <tr>\n",
       "      <th>0</th>\n",
       "      <td>0.561254</td>\n",
       "      <td>0.150119</td>\n",
       "      <td>0.144407</td>\n",
       "      <td>0.974354</td>\n",
       "      <td>0.0</td>\n",
       "      <td>8.562369e-01</td>\n",
       "    </tr>\n",
       "    <tr>\n",
       "      <th>1</th>\n",
       "      <td>0.657248</td>\n",
       "      <td>0.145698</td>\n",
       "      <td>0.145293</td>\n",
       "      <td>0.755808</td>\n",
       "      <td>1.0</td>\n",
       "      <td>1.437631e-01</td>\n",
       "    </tr>\n",
       "    <tr>\n",
       "      <th>2</th>\n",
       "      <td>0.747328</td>\n",
       "      <td>0.145612</td>\n",
       "      <td>0.145205</td>\n",
       "      <td>0.919381</td>\n",
       "      <td>1.0</td>\n",
       "      <td>2.213236e-09</td>\n",
       "    </tr>\n",
       "    <tr>\n",
       "      <th>3</th>\n",
       "      <td>0.697393</td>\n",
       "      <td>0.147954</td>\n",
       "      <td>0.147544</td>\n",
       "      <td>0.693926</td>\n",
       "      <td>1.0</td>\n",
       "      <td>1.250389e-09</td>\n",
       "    </tr>\n",
       "    <tr>\n",
       "      <th>4</th>\n",
       "      <td>0.623047</td>\n",
       "      <td>0.150945</td>\n",
       "      <td>0.150531</td>\n",
       "      <td>0.694303</td>\n",
       "      <td>1.0</td>\n",
       "      <td>5.522092e-10</td>\n",
       "    </tr>\n",
       "  </tbody>\n",
       "</table>\n",
       "</div>"
      ],
      "text/plain": [
       "      -0.02       0.0     0.001      cost  metric          prob\n",
       "0  0.561254  0.150119  0.144407  0.974354     0.0  8.562369e-01\n",
       "1  0.657248  0.145698  0.145293  0.755808     1.0  1.437631e-01\n",
       "2  0.747328  0.145612  0.145205  0.919381     1.0  2.213236e-09\n",
       "3  0.697393  0.147954  0.147544  0.693926     1.0  1.250389e-09\n",
       "4  0.623047  0.150945  0.150531  0.694303     1.0  5.522092e-10"
      ]
     },
     "execution_count": 8,
     "metadata": {},
     "output_type": "execute_result"
    }
   ],
   "source": [
    "# result with seed 0\n",
    "\n",
    "min_collusion_solver = analytics.MinCollusionIterativeSolver(\n",
    "    data=tsuchiura_before_min_price, \n",
    "    deviations=deviations, \n",
    "    metric=analytics.IsNonCompetitive, \n",
    "    plausibility_constraints=constraints, \n",
    "    num_points=1000.0, \n",
    "    seed=0, \n",
    "    project=True, \n",
    "    filter_ties=None,\n",
    "    number_iterations=500,\n",
    "    confidence_level=.95,\n",
    "    moment_matrix=auction_data.moment_matrix(deviations, 'slope'),\n",
    "    moment_weights=np.array([0, 0, 1])\n",
    ")\n",
    "\n",
    "print('solver demands: {}'.format(min_collusion_solver.demands))\n",
    "print('rough tolerance T^2: {}'.format(4. / tsuchiura_before_min_price.df_bids.shape[0]))\n",
    "print('bootstrapped tolerance T^2: {}'.format(min_collusion_solver.tolerance))\n",
    "\n",
    "result = min_collusion_solver.result\n",
    "print('minimum share of collusive auctions: {}'.format(result.solution))\n",
    "result.argmin.head()"
   ]
  },
  {
   "cell_type": "code",
   "execution_count": 9,
   "metadata": {},
   "outputs": [
    {
     "name": "stdout",
     "output_type": "stream",
     "text": [
      "solver demands: [0.65899123 0.21792763 0.21491228]\n",
      "rough tolerance T^2: 0.0021929824561403508\n",
      "bootstrapped tolerance T^2: 3.7383798380272766e-06\n",
      "minimum share of collusive auctions: 0.15919273968097608\n"
     ]
    },
    {
     "data": {
      "text/html": [
       "<div>\n",
       "<style>\n",
       "    .dataframe thead tr:only-child th {\n",
       "        text-align: right;\n",
       "    }\n",
       "\n",
       "    .dataframe thead th {\n",
       "        text-align: left;\n",
       "    }\n",
       "\n",
       "    .dataframe tbody tr th {\n",
       "        vertical-align: top;\n",
       "    }\n",
       "</style>\n",
       "<table border=\"1\" class=\"dataframe\">\n",
       "  <thead>\n",
       "    <tr style=\"text-align: right;\">\n",
       "      <th></th>\n",
       "      <th>-0.02</th>\n",
       "      <th>0.0</th>\n",
       "      <th>0.001</th>\n",
       "      <th>cost</th>\n",
       "      <th>metric</th>\n",
       "      <th>prob</th>\n",
       "    </tr>\n",
       "  </thead>\n",
       "  <tbody>\n",
       "    <tr>\n",
       "      <th>0</th>\n",
       "      <td>0.589483</td>\n",
       "      <td>0.160378</td>\n",
       "      <td>0.154570</td>\n",
       "      <td>0.973108</td>\n",
       "      <td>0.0</td>\n",
       "      <td>8.408073e-01</td>\n",
       "    </tr>\n",
       "    <tr>\n",
       "      <th>1</th>\n",
       "      <td>0.639869</td>\n",
       "      <td>0.146355</td>\n",
       "      <td>0.145944</td>\n",
       "      <td>0.743373</td>\n",
       "      <td>1.0</td>\n",
       "      <td>1.591927e-01</td>\n",
       "    </tr>\n",
       "    <tr>\n",
       "      <th>2</th>\n",
       "      <td>0.616968</td>\n",
       "      <td>0.148998</td>\n",
       "      <td>0.148584</td>\n",
       "      <td>0.810200</td>\n",
       "      <td>1.0</td>\n",
       "      <td>2.636225e-08</td>\n",
       "    </tr>\n",
       "    <tr>\n",
       "      <th>3</th>\n",
       "      <td>0.731394</td>\n",
       "      <td>0.151585</td>\n",
       "      <td>0.151162</td>\n",
       "      <td>0.925161</td>\n",
       "      <td>1.0</td>\n",
       "      <td>4.888917e-10</td>\n",
       "    </tr>\n",
       "    <tr>\n",
       "      <th>4</th>\n",
       "      <td>0.598862</td>\n",
       "      <td>0.183548</td>\n",
       "      <td>0.183074</td>\n",
       "      <td>0.756479</td>\n",
       "      <td>1.0</td>\n",
       "      <td>9.008500e-11</td>\n",
       "    </tr>\n",
       "  </tbody>\n",
       "</table>\n",
       "</div>"
      ],
      "text/plain": [
       "      -0.02       0.0     0.001      cost  metric          prob\n",
       "0  0.589483  0.160378  0.154570  0.973108     0.0  8.408073e-01\n",
       "1  0.639869  0.146355  0.145944  0.743373     1.0  1.591927e-01\n",
       "2  0.616968  0.148998  0.148584  0.810200     1.0  2.636225e-08\n",
       "3  0.731394  0.151585  0.151162  0.925161     1.0  4.888917e-10\n",
       "4  0.598862  0.183548  0.183074  0.756479     1.0  9.008500e-11"
      ]
     },
     "execution_count": 9,
     "metadata": {},
     "output_type": "execute_result"
    }
   ],
   "source": [
    "# result with seed 1\n",
    "\n",
    "min_collusion_solver = analytics.MinCollusionIterativeSolver(\n",
    "    data=tsuchiura_before_min_price, \n",
    "    deviations=deviations, \n",
    "    metric=analytics.IsNonCompetitive, \n",
    "    plausibility_constraints=constraints, \n",
    "    num_points=1000.0, \n",
    "    seed=2, \n",
    "    project=True, \n",
    "    filter_ties=None,\n",
    "    number_iterations=500,\n",
    "    confidence_level=.95,\n",
    "    moment_matrix=auction_data.moment_matrix(deviations, 'slope'),\n",
    "    moment_weights=np.array([0, 0, 1])\n",
    ")\n",
    "\n",
    "print('solver demands: {}'.format(min_collusion_solver.demands))\n",
    "print('rough tolerance T^2: {}'.format(4. / tsuchiura_before_min_price.df_bids.shape[0]))\n",
    "print('bootstrapped tolerance T^2: {}'.format(min_collusion_solver.tolerance))\n",
    "\n",
    "result = min_collusion_solver.result\n",
    "print('minimum share of collusive auctions: {}'.format(result.solution))\n",
    "result.argmin.head()"
   ]
  },
  {
   "cell_type": "code",
   "execution_count": null,
   "metadata": {},
   "outputs": [],
   "source": []
  }
 ],
 "metadata": {
  "kernelspec": {
   "display_name": "Python 3",
   "language": "python",
   "name": "python3"
  },
  "language_info": {
   "codemirror_mode": {
    "name": "ipython",
    "version": 3
   },
   "file_extension": ".py",
   "mimetype": "text/x-python",
   "name": "python",
   "nbconvert_exporter": "python",
   "pygments_lexer": "ipython3",
   "version": "3.6.8"
  }
 },
 "nbformat": 4,
 "nbformat_minor": 2
}
