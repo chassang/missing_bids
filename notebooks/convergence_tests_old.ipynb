{
 "cells": [
  {
   "cell_type": "code",
   "execution_count": 1,
   "metadata": {},
   "outputs": [],
   "source": [
    "import auction_data, os, analytics\n",
    "hist_plot = auction_data.hist_plot\n",
    "import seaborn as sns\n",
    "import pandas as pd\n",
    "import matplotlib.pyplot as plt\n",
    "import numpy as np\n",
    "import cvxpy\n",
    "sns.set_style('white')\n",
    "%matplotlib inline"
   ]
  },
  {
   "cell_type": "code",
   "execution_count": 2,
   "metadata": {},
   "outputs": [],
   "source": [
    "tsuchiura_data = auction_data.AuctionData('tests/reference_data/tsuchiura_data.csv')"
   ]
  },
  {
   "cell_type": "code",
   "execution_count": 3,
   "metadata": {},
   "outputs": [
    {
     "name": "stdout",
     "output_type": "stream",
     "text": [
      "[0.6938393464942137, 0.25238257317903334, 0.25017018379850237, 0.24727705922396187]\n"
     ]
    }
   ],
   "source": [
    "deviations = [-.02, -.0001, .0, .0005]\n",
    "demands = [tsuchiura_data.get_counterfactual_demand(rho) for rho in deviations]\n",
    "print(demands)"
   ]
  },
  {
   "cell_type": "code",
   "execution_count": 4,
   "metadata": {},
   "outputs": [],
   "source": [
    "constraints = [analytics.MarkupConstraint(max_markup=.5),\n",
    "               analytics.InformationConstraint(k=.5, sample_demands=demands)]"
   ]
  },
  {
   "cell_type": "code",
   "execution_count": 5,
   "metadata": {},
   "outputs": [
    {
     "name": "stdout",
     "output_type": "stream",
     "text": [
      "['ECOS', 'ECOS_BB', 'CVXOPT', 'GLPK', 'GLPK_MI', 'SCS', 'OSQP']\n",
      "['ECOS']\n"
     ]
    }
   ],
   "source": [
    "installed_solvers = cvxpy.installed_solvers()\n",
    "print(installed_solvers)\n",
    "solvers = ['ECOS'] #, 'CVXOPT']\n",
    "print(solvers)"
   ]
  },
  {
   "cell_type": "code",
   "execution_count": 7,
   "metadata": {},
   "outputs": [
    {
     "name": "stdout",
     "output_type": "stream",
     "text": [
      "   Seed 0, result 0.4057023623540873\n",
      "   Seed 1, result 0.21774334034236664\n",
      "   Seed 2, result 0.10695174144966697\n",
      "   Seed 3, result 0.04180435395672499\n",
      "   Seed 4, result -2.4286486386485606e-11\n",
      "   Seed 5, result -1.4187858815169954e-11\n",
      "   Seed 6, result -4.6462576019085135e-12\n",
      "   Seed 7, result -2.1460020440831782e-12\n",
      "   Seed 8, result -1.7072104563820405e-12\n",
      "   Seed 9, result -1.136606717347113e-10\n"
     ]
    },
    {
     "data": {
      "image/png": "[encoded data removed]",
      "text/plain": [
       "<Figure size 432x288 with 1 Axes>"
      ]
     },
     "metadata": {
      "needs_background": "light"
     },
     "output_type": "display_data"
    },
    {
     "name": "stdout",
     "output_type": "stream",
     "text": [
      "[0.4057023623540873, 0.21774334034236664, 0.10695174144966697, 0.04180435395672499, -2.4286486386485606e-11, -1.4187858815169954e-11, -4.6462576019085135e-12, -2.1460020440831782e-12, -1.7072104563820405e-12, -1.136606717347113e-10]\n"
     ]
    }
   ],
   "source": [
    "seeded_points = np.array([])\n",
    "number_iterations = 10\n",
    "first_seed = 0\n",
    "threshold = 0.005\n",
    "\n",
    "for project in [True]:\n",
    "    num_points = 1e6 * (1 - project) + 1e4 * project\n",
    "    \n",
    "    try:\n",
    "        min_collusion_solver = analytics.MinCollusionIterativeSolver(\n",
    "                data=tsuchiura_data,\n",
    "                deviations=deviations,\n",
    "                tolerance=2 * 1./tsuchiura_data.df_bids.shape[0],\n",
    "                metric=analytics.IsNonCompetitive,\n",
    "                plausibility_constraints=constraints,\n",
    "                num_points=num_points,\n",
    "                first_seed=first_seed,\n",
    "                project=project,\n",
    "                number_iterations=number_iterations,\n",
    "                solution_threshold=0.005)\n",
    "        \n",
    "        print(min_collusion_solver.solution)\n",
    "\n",
    "    except Exception as e:\n",
    "        print('Solver error: {}'.format(e))\n",
    "        \n",
    "\n",
    "    "
   ]
  },
  {
   "cell_type": "code",
   "execution_count": null,
   "metadata": {},
   "outputs": [],
   "source": []
  }
 ],
 "metadata": {
  "kernelspec": {
   "display_name": "Python 3",
   "language": "python",
   "name": "python3"
  },
  "language_info": {
   "codemirror_mode": {
    "name": "ipython",
    "version": 3
   },
   "file_extension": ".py",
   "mimetype": "text/x-python",
   "name": "python",
   "nbconvert_exporter": "python",
   "pygments_lexer": "ipython3",
   "version": "3.5.2"
  }
 },
 "nbformat": 4,
 "nbformat_minor": 2
}
