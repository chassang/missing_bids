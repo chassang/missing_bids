{
 "cells": [
  {
   "cell_type": "code",
   "execution_count": 1,
   "metadata": {},
   "outputs": [],
   "source": [
    "import auction_data, os, analytics\n",
    "hist_plot = auction_data.hist_plot\n",
    "import seaborn as sns\n",
    "import pandas as pd\n",
    "import matplotlib.pyplot as plt\n",
    "import numpy as np\n",
    "import cvxpy\n",
    "sns.set_style('white')\n",
    "%matplotlib inline"
   ]
  },
  {
   "cell_type": "code",
   "execution_count": 2,
   "metadata": {},
   "outputs": [],
   "source": [
    "tsuchiura_data = auction_data.AuctionData('tests/reference_data/tsuchiura_data.csv')"
   ]
  },
  {
   "cell_type": "code",
   "execution_count": 3,
   "metadata": {},
   "outputs": [
    {
     "name": "stdout",
     "output_type": "stream",
     "text": [
      "[0.6938393464942137, 0.25238257317903334, 0.25017018379850237, 0.24727705922396187]\n"
     ]
    }
   ],
   "source": [
    "deviations = [-.02, -.0001, .0, .0005]\n",
    "demands = [tsuchiura_data.get_counterfactual_demand(rho) for rho in deviations]\n",
    "print(demands)"
   ]
  },
  {
   "cell_type": "code",
   "execution_count": 4,
   "metadata": {},
   "outputs": [],
   "source": [
    "constraints = [analytics.MarkupConstraint(max_markup=.5),\n",
    "               analytics.InformationConstraint(k=.5, sample_demands=demands)]"
   ]
  },
  {
   "cell_type": "code",
   "execution_count": 5,
   "metadata": {},
   "outputs": [
    {
     "name": "stdout",
     "output_type": "stream",
     "text": [
      "['ECOS', 'ECOS_BB', 'CVXOPT', 'GLPK', 'GLPK_MI', 'SCS', 'OSQP']\n",
      "['ECOS']\n"
     ]
    }
   ],
   "source": [
    "installed_solvers = cvxpy.installed_solvers()\n",
    "print(installed_solvers)\n",
    "solvers = ['ECOS'] #, 'CVXOPT']\n",
    "print(solvers)"
   ]
  },
  {
   "cell_type": "code",
   "execution_count": 8,
   "metadata": {},
   "outputs": [
    {
     "name": "stdout",
     "output_type": "stream",
     "text": [
      "seed_id 0 : seed=2345, project=True, num_points=10000.0\n",
      "Using ECOS solver\n",
      "minimum share of collusive histories: 0.24188595741622035\n",
      "\n",
      "seed_id 1 : seed=2346, project=True, num_points=10000.0\n",
      "Using ECOS solver\n",
      "minimum share of collusive histories: 0.23310970530803685\n",
      "\n",
      "seed_id 2 : seed=2347, project=True, num_points=10000.0\n",
      "Using ECOS solver\n",
      "minimum share of collusive histories: 0.23297309767501143\n",
      "\n",
      "seed_id 3 : seed=2348, project=True, num_points=10000.0\n",
      "Using ECOS solver\n",
      "minimum share of collusive histories: 0.10841274627797963\n",
      "\n",
      "seed_id 4 : seed=2349, project=True, num_points=10000.0\n",
      "Using ECOS solver\n",
      "minimum share of collusive histories: 0.03704124773006466\n",
      "\n",
      "seed_id 5 : seed=2350, project=True, num_points=10000.0\n",
      "Using ECOS solver\n",
      "minimum share of collusive histories: -7.495408571735169e-11\n",
      "\n",
      "seed_id 6 : seed=2351, project=True, num_points=10000.0\n",
      "Using ECOS solver\n",
      "minimum share of collusive histories: -1.1561052299917898e-10\n",
      "\n",
      "seed_id 7 : seed=2352, project=True, num_points=10000.0\n",
      "Using ECOS solver\n",
      "minimum share of collusive histories: -2.7942866669165695e-11\n",
      "\n",
      "seed_id 8 : seed=2353, project=True, num_points=10000.0\n",
      "Using ECOS solver\n",
      "minimum share of collusive histories: -1.9670967616228493e-11\n",
      "\n",
      "seed_id 9 : seed=2354, project=True, num_points=10000.0\n",
      "Using ECOS solver\n",
      "minimum share of collusive histories: -2.559341211398127e-11\n",
      "\n"
     ]
    },
    {
     "data": {
      "image/png": "[encoded data removed]",
      "text/plain": [
       "<Figure size 432x288 with 1 Axes>"
      ]
     },
     "metadata": {
      "needs_background": "light"
     },
     "output_type": "display_data"
    }
   ],
   "source": [
    "best_solutions = None\n",
    "seeded_points = np.array([])\n",
    "number_of_seeds = 10\n",
    "first_seed = 2345\n",
    "threshold = 0.005\n",
    "min_share_of_collusive_hist = []\n",
    "\n",
    "for solver in solvers:\n",
    "    if solver not in installed_solvers:\n",
    "        continue\n",
    "    for project in [True]:\n",
    "        seed_id = 0\n",
    "        num_points = 1e6 * (1 - project) + 1e4 * project\n",
    "        for seed in range(first_seed, first_seed + number_of_seeds):\n",
    "          \n",
    "            print('seed_id {} : seed={}, project={}, num_points={}'.format(seed_id, seed, project, num_points))\n",
    "\n",
    "            try:\n",
    "                min_collusion_solver = analytics.MinCollusionSolver(\n",
    "                    data=tsuchiura_data,\n",
    "                    deviations=deviations,\n",
    "                    tolerance=2 * 1./tsuchiura_data.df_bids.shape[0],\n",
    "                    metric=analytics.IsNonCompetitive,\n",
    "                    plausibility_constraints=constraints,\n",
    "                    num_points=num_points,\n",
    "                    seed=seed,\n",
    "                    project=project,\n",
    "                    solver_type=solver,\n",
    "                    seeded_points=seeded_points\n",
    "                    )\n",
    "\n",
    "                print('minimum share of collusive histories: {}\\n'.format(min_collusion_solver.solution))\n",
    "                min_share_of_collusive_hist.append(min_collusion_solver.solution)\n",
    "                \n",
    "                sorted_solution = min_collusion_solver.argmin.sort_values(\"prob\", ascending=False)\n",
    "                #print(sorted_solution.head(10))\n",
    "                \n",
    "                if best_solutions is not None:\n",
    "                    best_solutions = pd.concat([best_solutions,  sorted_solution.loc[sorted_solution.prob > threshold]])\n",
    "                else:\n",
    "                    best_solutions = sorted_solution.loc[sorted_solution.prob > threshold] \n",
    "                \n",
    "                seeded_points = best_solutions.values[:,:-2]  \n",
    "                seed_id += 1\n",
    "\n",
    "            except Exception as e:\n",
    "                print('Solver error: {}'.format(e))\n",
    "                pass\n",
    "    #print(best_solutions)\n",
    "    plt.plot(range(0,number_of_seeds), min_share_of_collusive_hist, '-o')\n",
    "    plt.show()\n"
   ]
  },
  {
   "cell_type": "code",
   "execution_count": null,
   "metadata": {},
   "outputs": [],
   "source": []
  }
 ],
 "metadata": {
  "kernelspec": {
   "display_name": "Python 3",
   "language": "python",
   "name": "python3"
  },
  "language_info": {
   "codemirror_mode": {
    "name": "ipython",
    "version": 3
   },
   "file_extension": ".py",
   "mimetype": "text/x-python",
   "name": "python",
   "nbconvert_exporter": "python",
   "pygments_lexer": "ipython3",
   "version": "3.6.7"
  }
 },
 "nbformat": 4,
 "nbformat_minor": 2
}
