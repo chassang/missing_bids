{
 "cells": [
  {
   "cell_type": "code",
   "execution_count": 1,
   "metadata": {},
   "outputs": [],
   "source": [
    "import auction_data, os, analytics\n",
    "hist_plot = auction_data.hist_plot\n",
    "import seaborn as sns\n",
    "import pandas as pd\n",
    "import matplotlib.pyplot as plt\n",
    "import numpy as np\n",
    "import cvxpy\n",
    "sns.set_style('white')\n",
    "%matplotlib inline"
   ]
  },
  {
   "cell_type": "code",
   "execution_count": 2,
   "metadata": {},
   "outputs": [],
   "source": [
    "tsuchiura_data = auction_data.AuctionData('tests/reference_data/tsuchiura_data.csv')"
   ]
  },
  {
   "cell_type": "code",
   "execution_count": 3,
   "metadata": {},
   "outputs": [
    {
     "name": "stdout",
     "output_type": "stream",
     "text": [
      "[0.6938393464942137, 0.25238257317903334, 0.25017018379850237, 0.24727705922396187]\n"
     ]
    }
   ],
   "source": [
    "deviations = [-.02, -.0001, .0, .0005]\n",
    "demands = [tsuchiura_data.get_counterfactual_demand(rho) for rho in deviations]\n",
    "print(demands)"
   ]
  },
  {
   "cell_type": "code",
   "execution_count": 4,
   "metadata": {},
   "outputs": [],
   "source": [
    "constraints = [analytics.MarkupConstraint(max_markup=.5),\n",
    "               analytics.InformationConstraint(k=.5, sample_demands=demands)]"
   ]
  },
  {
   "cell_type": "code",
   "execution_count": 7,
   "metadata": {},
   "outputs": [
    {
     "name": "stdout",
     "output_type": "stream",
     "text": [
      "['ECOS', 'ECOS_BB', 'CVXOPT', 'GLPK', 'GLPK_MI', 'SCS', 'OSQP']\n",
      "['ECOS', 'CVXOPT']\n"
     ]
    }
   ],
   "source": [
    "installed_solvers = cvxpy.installed_solvers()\n",
    "print(installed_solvers)\n",
    "solvers = ['ECOS', 'CVXOPT']\n",
    "print(solvers)"
   ]
  },
  {
   "cell_type": "code",
   "execution_count": null,
   "metadata": {},
   "outputs": [
    {
     "name": "stdout",
     "output_type": "stream",
     "text": [
      "====================\n",
      "seed=1, project=True, num_points=10000.0, solver=ECOS\n",
      "\n",
      "ECOS 2.0.7 - (C) embotech GmbH, Zurich Switzerland, 2012-15. Web: www.embotech.com/ECOS\n",
      "\n",
      "It     pcost       dcost      gap   pres   dres    k/t    mu     step   sigma     IR    |   BT\n",
      " 0  +9.782e-01  -1.390e+00  +1e+03  1e+00  7e-01  1e+00  2e+00    ---    ---    1  1  - |  -  - \n",
      " 1  -4.655e-01  -7.857e-01  +2e+02  5e-01  8e-02  1e-01  3e-01  0.8521  2e-02   1  1  1 |  0  0\n",
      " 2  -9.547e-02  -1.275e-01  +3e+01  8e-02  8e-03  7e-03  4e-02  0.8861  2e-02   2  1  1 |  0  0\n",
      " 3  -1.513e-02  -2.084e-02  +6e+00  1e-02  1e-03  1e-03  8e-03  0.8113  2e-02   1  1  1 |  0  0\n",
      " 4  -1.145e-02  -1.687e-02  +5e+00  1e-02  1e-03  1e-03  8e-03  0.1309  7e-01   2  2  2 |  0  0\n",
      " 5  -6.369e-03  -9.477e-03  +3e+00  7e-03  8e-04  8e-04  5e-03  0.4979  2e-01   2  2  2 |  0  0\n",
      " 6  -3.952e-04  -3.387e-03  +3e+00  7e-03  7e-04  9e-04  5e-03  0.1893  8e-01   2  2  2 |  0  0\n",
      " 7  -1.165e-04  -1.531e-03  +1e+00  3e-03  3e-04  5e-04  2e-03  0.7543  3e-01   2  2  2 |  0  0\n",
      " 8  +9.817e-03  +8.777e-03  +1e+00  2e-03  2e-04  4e-04  2e-03  0.4108  3e-01   2  2  2 |  0  0\n",
      " 9  +2.843e-02  +2.788e-02  +5e-01  1e-03  5e-05  3e-04  8e-04  0.6024  2e-01   2  2  2 |  0  0\n",
      "10  +1.388e-01  +1.383e-01  +3e-01  3e-03  3e-05  5e-04  5e-04  0.4978  3e-01   3  3  4 |  0  0\n",
      "11  +1.158e-01  +1.153e-01  +3e-01  2e-03  2e-05  4e-04  5e-04  0.0676  9e-01   3  3  3 |  0  0\n",
      "12  +1.384e-01  +1.382e-01  +1e-01  1e-03  9e-06  2e-04  2e-04  0.7570  2e-01   4  3  3 |  0  0\n",
      "13  +1.561e-01  +1.559e-01  +1e-01  1e-03  9e-06  2e-04  2e-04  0.1729  8e-01   3  3  2 |  0  0\n",
      "14  +1.614e-01  +1.613e-01  +8e-02  9e-04  7e-06  2e-04  1e-04  0.8834  7e-01   4  3  2 |  0  0\n",
      "15  +1.863e-01  +1.863e-01  +2e-02  4e-04  3e-06  9e-05  4e-05  0.9154  2e-01   4  3  3 |  0  0\n",
      "16  +2.025e-01  +2.025e-01  +2e-02  5e-04  3e-06  1e-04  2e-05  0.5119  4e-01   3  3  3 |  0  0\n",
      "17  +2.029e-01  +2.029e-01  +2e-02  4e-04  2e-06  8e-05  2e-05  0.1690  9e-01   3  3  3 |  0  0\n",
      "18  +2.020e-01  +2.020e-01  +1e-02  3e-04  2e-06  7e-05  2e-05  0.2508  7e-01   3  3  2 |  0  0\n",
      "19  +2.068e-01  +2.068e-01  +1e-02  4e-04  2e-06  9e-05  2e-05  0.2066  7e-01   3  3  3 |  0  0\n",
      "20  +2.108e-01  +2.108e-01  +8e-03  2e-04  1e-06  6e-05  1e-05  0.7116  4e-01   3  2  2 |  0  0\n",
      "21  +2.223e-01  +2.223e-01  +5e-03  2e-04  1e-06  7e-05  8e-06  0.6316  5e-01   3  3  3 |  0  0\n",
      "22  +2.261e-01  +2.261e-01  +1e-03  7e-05  4e-07  2e-05  2e-06  0.8697  2e-01   4  2  3 |  0  0\n",
      "23  +2.274e-01  +2.274e-01  +2e-04  9e-06  4e-08  2e-06  3e-07  0.8841  1e-02   3  2  2 |  0  0\n",
      "24  +2.276e-01  +2.276e-01  +1e-05  5e-07  3e-09  1e-07  2e-08  0.9415  7e-04   2  1  1 |  0  0\n",
      "25  +2.276e-01  +2.276e-01  +2e-07  1e-08  5e-11  3e-09  3e-10  0.9799  1e-04   3  1  1 |  0  0\n",
      "26  +2.276e-01  +2.276e-01  +1e-08  2e-09  3e-12  2e-10  2e-11  0.9440  3e-03   2  1  1 |  0  0\n",
      "27  +2.276e-01  +2.276e-01  +7e-10  5e-10  2e-13  9e-12  1e-12  0.9539  6e-03   3  2  2 |  0  0\n",
      "\n",
      "OPTIMAL (within feastol=5.4e-10, reltol=2.9e-09, abstol=6.7e-10).\n",
      "Runtime: 0.024697 seconds.\n",
      "\n",
      "minimum share of collusive histories: 0.22760282071728652\n",
      "====================\n",
      "seed=1, project=True, num_points=10000.0, solver=CVXOPT\n"
     ]
    }
   ],
   "source": [
    "for solver in solvers:\n",
    "    if solver not in installed_solvers:\n",
    "        continue\n",
    "    seed = 1\n",
    "    project = True\n",
    "    for num_points in [1e4]:\n",
    "        print(20*'=' + '\\n'\n",
    "              + 'seed={}, project={}, num_points={}, solver={}'.format(seed, project, num_points, solver))\n",
    "        \n",
    "        try:\n",
    "            min_collusion_solver = analytics.MinCollusionSolver(\n",
    "                data=tsuchiura_data,\n",
    "                deviations=deviations,\n",
    "                tolerance=2 * 1./tsuchiura_data.df_bids.shape[0],\n",
    "                metric=analytics.IsNonCompetitive,\n",
    "                plausibility_constraints=constraints,\n",
    "                num_points=num_points,\n",
    "                seed=seed,\n",
    "                project=project,\n",
    "                solver_type=solver\n",
    "                )\n",
    "            \n",
    "            print('minimum share of collusive histories: {}'.format(min_collusion_solver.solution))\n",
    "            min_collusion_solver.argmin.sort_values(\"prob\", ascending=False).head(10)\n",
    "            \n",
    "        except Exception as e:\n",
    "            print('Solver error')\n",
    "            pass"
   ]
  },
  {
   "cell_type": "code",
   "execution_count": null,
   "metadata": {},
   "outputs": [],
   "source": []
  },
  {
   "cell_type": "code",
   "execution_count": null,
   "metadata": {},
   "outputs": [],
   "source": []
  }
 ],
 "metadata": {
  "kernelspec": {
   "display_name": "Python 3",
   "language": "python",
   "name": "python3"
  },
  "language_info": {
   "codemirror_mode": {
    "name": "ipython",
    "version": 3
   },
   "file_extension": ".py",
   "mimetype": "text/x-python",
   "name": "python",
   "nbconvert_exporter": "python",
   "pygments_lexer": "ipython3",
   "version": "3.6.7"
  }
 },
 "nbformat": 4,
 "nbformat_minor": 2
}
